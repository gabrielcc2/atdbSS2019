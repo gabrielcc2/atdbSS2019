{
  "nbformat": 4,
  "nbformat_minor": 0,
  "metadata": {
    "colab": {
      "name": "Range search with learned models@ATDBSS2019.ipynb",
      "version": "0.3.2",
      "provenance": [],
      "collapsed_sections": [],
      "toc_visible": true,
      "include_colab_link": true
    },
    "kernelspec": {
      "name": "python3",
      "display_name": "Python 3"
    }
  },
  "cells": [
    {
      "cell_type": "markdown",
      "metadata": {
        "id": "view-in-github",
        "colab_type": "text"
      },
      "source": [
        "<a href=\"https://colab.research.google.com/github/gabrielcc2/atdbSS2019/blob/master/Range_search_with_learned_models_ATDBSS2019.ipynb\" target=\"_parent\"><img src=\"https://colab.research.google.com/assets/colab-badge.svg\" alt=\"Open In Colab\"/></a>"
      ]
    },
    {
      "cell_type": "markdown",
      "metadata": {
        "id": "P5T5QDLL1UBG",
        "colab_type": "text"
      },
      "source": [
        "# **Range search with learned models**\n",
        "\n",
        "---\n",
        "\n",
        "\n",
        "\n",
        "\n"
      ]
    },
    {
      "cell_type": "markdown",
      "metadata": {
        "id": "x1T3_N8f17Im",
        "colab_type": "text"
      },
      "source": [
        "# Introduction\n",
        "\n",
        "Welcome everyone.\n",
        "\n",
        "Today we're gonna have a look at how to support range queries with learned models. This notebook is an assignment from the course [\"Advanced Topics in Databases\"](http://www.dbse.ovgu.de/Lehre/ATDB.html), at the University of Magdeburg. Resolving the task should take between 2-3 hours, so plan accordingly.\n",
        "\n",
        "Before jumping into action, some housekeeping notes:\n",
        "\n",
        "1.  For submitting the task 5 items (identified in bold, as **submission items**) are required to be sent to campero@ovgu.de, by 30.06.19, 11:59 pm CET.  \n",
        "2.   If there is any complication or there are questions with this assignment, feel free to reach out to campero@ovgu.de. To our knowledge one possible bug might happen when running the Keras training code boxes. The error is that the model starts training but does not seem to make any progress in the first set of epochs. It seems to be a silent error when connecting to the backend. Stopping and restarting the code box usually fixes this.\n",
        "3.   To work with this notebook you will need to open it in Colab, and make a copy to your personal Google Drive. This is necessary to store some intermediate files. The Colaboratory site will guide you about what you need to do.\n",
        "4.   Another pertinent tip, for using Colab: remember to pick a GPU runtime (Edit->Notebook settings), to train the neural network models faster. If you would like to know (optionally) how to train the models we have with the TPUs currently provided, there are some references available [here](https://medium.com/@jannik.zuern/using-a-tpu-in-google-colab-54257328d7da).\n",
        "5.   If you need any help working with Colab, there are great resources [here](https://colab.research.google.com/notebooks/welcome.ipynb). It should not be specially challenging.\n",
        "\n",
        "Traditionally range queries are supported with efficient index structures that allow you to determine the position of the item in the lower bound, the position of the item in the higher bound, and then the positions of items within.\n",
        "\n",
        "An example of a range query could look like this: \n",
        "SELECT \n",
        "    * \n",
        "FROM\n",
        "    lineitem\n",
        "WHERE\n",
        "    l_extendedprice >= 1000 AND l_extendedprice <= 10000;\n",
        "    \n",
        "These kind of queries are a basic building block in data exploration.\n",
        "\n",
        "The idea of supporting this kind of queries with learned models comes from Kraska et al. (https://arxiv.org/abs/1712.01208). These authors had that insight that search can actually be replaced by inference, if there exists a model that maps between the search key and the target position where the item is to be found. This mapping can be ultimately powered by a regressor model.\n",
        "\n",
        "Authors show that other tasks (such as existence queries, and point-lookups) can be supported with learned models too.\n",
        "\n",
        "The use of these models, specially when they are compact, constitutes an elegant adaptation of a data structure to data characteristics. When these models are, in fact, sufficiently compact, the search over these models could be expected to be faster than search over the original data. Hence these are the cornerstone gains from the models: adaptation to the data, reduced storage, improved search. \n",
        "\n",
        "Today we're going to have a quick experiment on building such models, and in making them efficient at inference (i.e., the search task). \n",
        "\n",
        "Please note that the implementation offered for this task is purely illustrative. It is not intended to be representative of the actual state-of-the-art in building these structures.\n",
        "\n",
        "Without further ado (and assuming that you've already opened the notebook in Colab), run the following block to install some dependencies, and let's get started."
      ]
    },
    {
      "cell_type": "code",
      "metadata": {
        "id": "90uSdyL7epFu",
        "colab_type": "code",
        "colab": {}
      },
      "source": [
        "!pip install matplotlib pandas seaborn sklearn keras \n",
        "\n",
        "print(\"Done installing dependencies.\")"
      ],
      "execution_count": 0,
      "outputs": []
    },
    {
      "cell_type": "markdown",
      "metadata": {
        "id": "o38bXPSw2MbC",
        "colab_type": "text"
      },
      "source": [
        "# First part: Data understanding\n",
        "\n",
        "(Estimated time: 40 minutes)\n",
        "\n",
        "First, you need to load our dataset. For this task we will be using the lineitem table from a TPC-H database of SF 0.01. From this dataset we will focus on learning a model for range queries on the extended price attribute.\n",
        "\n",
        "Here is the overall schema for the TPC-H database:\n",
        "![](https://docs.snowflake.net/manuals/_images/sample-data-tpch-schema.png)\n",
        "\n",
        "Our data will be loaded from a Github repository. Run the code below to load it into a dataframe. "
      ]
    },
    {
      "cell_type": "code",
      "metadata": {
        "id": "uJLT7RxNJirE",
        "colab_type": "code",
        "colab": {}
      },
      "source": [
        "import random\n",
        "import pandas as pd\n",
        "\n",
        "dataset_url = 'https://raw.githubusercontent.com/gabrielcc2/atdbSS2019/master/data/lineitem_SF0.01.tbl'\n",
        "df = pd.read_csv(dataset_url, sep='|', header=0)\n",
        "\n",
        "# Our dataset is now stored in a Pandas Dataframe\n",
        "\n",
        "#Here we check the schema, and its length\n",
        "print(\"Schema: \"+str(df.columns))\n",
        "print(\"Number of rows: \"+str(len(df)))\n",
        "\n"
      ],
      "execution_count": 0,
      "outputs": []
    },
    {
      "cell_type": "markdown",
      "metadata": {
        "id": "AYdBKtEy7y8G",
        "colab_type": "text"
      },
      "source": [
        "You will see that you have the same schema as defined in the TPC-H standard, but there is an addition of a column called  *L_EXTENDEDPRICE_SORT_KEY* .\n",
        "\n",
        "This column will come in handy for our task.\n",
        "\n",
        "Remember that our idea is to train a regressor model that maps from the *L_EXTENDEDPRICE*, to a location where items with that given price can be found. For simplicity, let's assume that this location can be the index of an array.\n",
        "\n",
        "If this location were the actual index of the row, it would be very difficult to learn a precise model.\n",
        "\n",
        "Run the code below to get a better sense of this difficulty. Here we plot how the prices (*L_EXTENDEDPRICE*) are distributed, and how they relate to the original index (*ORIGINAL_INDEX*). \n"
      ]
    },
    {
      "cell_type": "code",
      "metadata": {
        "id": "Ca0QPX7A9WQP",
        "colab_type": "code",
        "colab": {}
      },
      "source": [
        "import matplotlib.pyplot as plt\n",
        "import seaborn as sns; sns.set()\n",
        "  \n",
        "\n",
        "df['ORIGINAL_INDEX'] = df.index #For ease of use, we insert a new column with the original positions\n",
        "\n",
        "df_for_plot= df[['L_EXTENDEDPRICE', 'ORIGINAL_INDEX']] #We only keep the columns that we'll use for the plot\n",
        "\n",
        "\"\"\"\n",
        "For zooming-in, feel free to consider only the first k indexes or prices in df2...\n",
        "\n",
        "With the next 2 commands you sort on 'L_EXTENDEDPRICE' values, and retrieve only the first k rows\n",
        "\n",
        "df_for_plot= df_for_plot.sort_values(['L_EXTENDEDPRICE']) #(or alternatively, df_for_plot.sort_values(['ORIGINAL_INDEX']))\n",
        "df_for_plot=df_for_plot[:k]\n",
        "\"\"\"\n",
        "sns.set_palette(\"Paired\")\n",
        "g=sns.pairplot(df_for_plot)\n",
        "g.fig.suptitle(\"Extended Price vs. Original Index\", y=1.08)\n",
        "plt.show()"
      ],
      "execution_count": 0,
      "outputs": []
    },
    {
      "cell_type": "markdown",
      "metadata": {
        "id": "UpQNaSdf93yM",
        "colab_type": "text"
      },
      "source": [
        "You should see that the *L_EXTENDEDPRICE* goes up to 100k, with apparently few items being on the high end. You'll also see that the original index goes to 50k, with a fair distribution of items in each bin of the histogram.\n",
        "\n",
        "You should also see that there is visible relation (as expected) between *L_EXTENDEDPRICE*  and the *ORIGINAL_INDEX*. This is even more evident in cases where there are duplicate prices (i.e., one price maps to several indexes).\n",
        "\n",
        "Learning a model that maps between prices and these indexes would thus be very challenging. \n",
        "\n",
        "A workaround is to use a *Cummulative Density Function* (CDF) over the spread of the prices. This function gives us a nice 1:1 mapping between price and the CDF, while at the same time being monotonically increasing, and arguably easy to learn with a regressor.\n",
        "\n",
        "In the next code snippet we construct the CDF for this attribute."
      ]
    },
    {
      "cell_type": "code",
      "metadata": {
        "id": "_50E6wVZH96s",
        "colab_type": "code",
        "colab": {}
      },
      "source": [
        "import numpy as np\n",
        "\n",
        "#To calculate the actual CDF we need to define the unique values for the 'L_EXTENDEDPRICE'\n",
        "unique_values= sorted(df['L_EXTENDEDPRICE'].unique())\n",
        "\n",
        "#We create a histogram, counting the number of items per bin, and the boundaries of the bins\n",
        "counts, bin_edges = np.histogram (df['L_EXTENDEDPRICE'], bins=unique_values)\n",
        "prefix_sum = np.cumsum (counts) #This is a cummulative or prefix sum (https://en.wikipedia.org/wiki/Prefix_sum), tracking the sum of the number of items preceeding the list\n",
        "cdf= prefix_sum/prefix_sum[-1]#Dividing by the last value in the list gives us the cdf\n",
        "\n",
        "\n",
        "#Here we use as x the top boundaries of the bins, and as y the cdf \n",
        "df_for_plot = pd.DataFrame(np.array([bin_edges[1:], cdf]).T,\n",
        "                    columns=[\"L_EXTENDEDPRICE\", \"Cummulative Probability\"])\n",
        "sns.set_palette(\"BuGn_r\")\n",
        "g= sns.lineplot(x=\"L_EXTENDEDPRICE\", y=\"Cummulative Probability\", data=df_for_plot)\n",
        "g.set_title(\"CDF for Extended Price\", y=1.08)\n",
        "plt.show()\n",
        "\n"
      ],
      "execution_count": 0,
      "outputs": []
    },
    {
      "cell_type": "markdown",
      "metadata": {
        "id": "NrifE_FDObK7",
        "colab_type": "text"
      },
      "source": [
        "Using the CDF we added the *'L_EXTENDEDPRICE_SORT_KEY* attribute to our dataset. It simply represents the relative position of each value found.\n",
        "\n",
        "To understand how this attribute lends itself to a mapping that is easier to learn, let's check how it relates to *L_EXTENDEDPRICE*.\n",
        "\n",
        "Fill-in the following code block and run it, to check this relation. Once the plot is shown, zoom-in to the first 500 values (sorting on *L_EXTENDEDPRICE*) and save it (with any easy to understand filename) as **submission item # 1**. Optionally, you can compare too, in the same plot with the original indexes. \n",
        "\n"
      ]
    },
    {
      "cell_type": "code",
      "metadata": {
        "id": "6T4nG6FdYKoD",
        "colab_type": "code",
        "colab": {}
      },
      "source": [
        "df_for_plot= df[[]] #TODO: Fill-in the columns needed for the plot\n",
        "\n",
        "#TODO: Add here the code to zoom-in to the first 500 values (sorting on 'L_EXTENDEDPRICE')\n",
        "sns.set_palette(\"husl\")\n",
        "g= sns.pairplot(df_for_plot)\n",
        "g.fig.suptitle(\"... vs. ...\", y=1.08) #TODO: Fill-in\n",
        "plt.show()"
      ],
      "execution_count": 0,
      "outputs": []
    },
    {
      "cell_type": "markdown",
      "metadata": {
        "id": "gpXAOYDL2dZR",
        "colab_type": "text"
      },
      "source": [
        "# Second part:  Model fitting\n",
        "\n",
        "(Estimated time: 80 minutes)"
      ]
    },
    {
      "cell_type": "markdown",
      "metadata": {
        "id": "4WO1No4OpY_0",
        "colab_type": "text"
      },
      "source": [
        "*Regression* is the problem of predicting a target value (commonly a real-value), given an unlabled example. In order to solve this task a regression model is trained on a set of labeled data (e.g. to learn how to predict the weight of a person, based on features), such that the model can then be used to predict the target value of new unlabeled examples.\n",
        "\n",
        "![An example of linear regression](https://scikit-learn.org/stable/_images/sphx_glr_plot_cv_predict_thumb.png)\n",
        "\n",
        "For our case, however, we are not entirely concerned on learning for new data, instead the goal is to minimize the errors of the learned model on the training data itself. As a result, there is no test and train split.\n",
        "\n",
        "In this section of the assignment we will create several models, and compare them. In specific, we will compare:\n",
        "\n",
        "1. A simple linear regressor, against many others (only on the first 2k data points).\n",
        "2. A SVM regressor of your choice, from the Scikit learn models (only on the first 2k data points).\n",
        "3. A naive neural network.\n",
        "4. A hierarhical neural network architecture.\n",
        "\n",
        "In the following snippet we begin by defining in an easy manner our X and Y variables, and the subsets that we will use.\n",
        "\n"
      ]
    },
    {
      "cell_type": "code",
      "metadata": {
        "id": "8DfbQHs34ET9",
        "colab_type": "code",
        "colab": {}
      },
      "source": [
        "import copy\n",
        "from sklearn import preprocessing\n",
        "\n",
        "df=df.sort_values(['L_EXTENDEDPRICE'])\n",
        "df['L_EXTENDEDPRICE_SCALED']=preprocessing.scale(df['L_EXTENDEDPRICE'])\n",
        "\n",
        "X = np.array(df['L_EXTENDEDPRICE']).reshape(-1,1) #A necessary reshape\n",
        "X_subset=X[:2000]#We will train first on a subset of 2k values. \n",
        "\n",
        "X_subset_scaled=np.array(df['L_EXTENDEDPRICE_SCALED']).reshape(-1,1) #A necessary reshape\n",
        "X_subset_scaled=X_subset_scaled[:2000]\n",
        "\n",
        "Y=df['L_EXTENDEDPRICE_SORT_KEY']\n",
        "Y_subset=Y[:2000]#We will train first on a subset of 2k values\n",
        "\n",
        "print(\"Done initializing subsets for training the scikit-learn regressors.\")"
      ],
      "execution_count": 0,
      "outputs": []
    },
    {
      "cell_type": "markdown",
      "metadata": {
        "id": "Pn7dqT5ws4Gi",
        "colab_type": "text"
      },
      "source": [
        "Next we are going to train several models made available in scikit-learn. Please note that, since many of these models are more suitable for small to mid-sized data, we only evaluate them on a very limited subset of our dataset. Also note that we report the an evaluation on the original data (i.e., we make no train/test splits). Furthermore, we consider here mean absolute error, since it seems easier to understand (for this dataset) than the mean squared error.\n",
        "\n",
        "This step could take some time."
      ]
    },
    {
      "cell_type": "code",
      "metadata": {
        "id": "lfwY6Y-e4q8_",
        "colab_type": "code",
        "colab": {}
      },
      "source": [
        "from sklearn import linear_model\n",
        "from sklearn.metrics import mean_absolute_error\n",
        "from sklearn.kernel_ridge import KernelRidge\n",
        "from sklearn.gaussian_process import GaussianProcessRegressor\n",
        "from sklearn.ensemble import AdaBoostRegressor\n",
        "from sklearn.tree import DecisionTreeRegressor\n",
        "from sklearn.svm import SVR\n",
        "\n",
        "\"\"\"\n",
        "For each regressor we have a similar workflow:\n",
        "First, we define the regressor\n",
        "Second, we fit the model\n",
        "Third, we predict\n",
        "Fourth, we evaluate the error\n",
        "\"\"\"\n",
        "def max_absolute_error(y, y_pred):\n",
        "    return np.max(np.abs(y - y_pred))\n",
        "\n",
        "max_ae=[]\n",
        "\n",
        "#We begin with linear models, which have the nice feature of having a low number of\n",
        "#coefficients, hence creating models that are compact (i.e., with a low memory footprint)\n",
        "lr = linear_model.LinearRegression(n_jobs=5)#A linear regressor model. The simplest of the lot.\n",
        "lr.fit(X_subset,Y_subset)\n",
        "lr_predict= lr.predict(X_subset)\n",
        "lr_mae=mean_absolute_error(Y_subset, lr_predict)\n",
        "max_ae.append(max_absolute_error(Y_subset, lr_predict))\n",
        "\n",
        "lasso = linear_model.Lasso(alpha=1.0) #A linear lasso model (least absolute shrinkage and selection operator)\n",
        "#In addition to regression, Lasso models are also commonly employed for feature selection.\n",
        "lasso.fit(X_subset, Y_subset)\n",
        "lasso_predict=lasso.predict(X_subset)\n",
        "lasso_mae=mean_absolute_error(Y_subset, lasso_predict)\n",
        "max_ae.append(max_absolute_error(Y_subset, lasso_predict))\n",
        "\n",
        "ts= linear_model.TheilSenRegressor(random_state=0) #A Theil-Sen model, a regressor based on an estimation of the\n",
        "#geometrical median of the slopes of all possible lines connecting pairs of observations in the data\n",
        "ts.fit(X_subset, Y_subset)\n",
        "ts_predict=ts.predict(X_subset)\n",
        "ts_mae=mean_absolute_error(Y_subset, ts_predict)\n",
        "max_ae.append(max_absolute_error(Y_subset, ts_predict))\n",
        "\n",
        "\n",
        "#We also consider a kernel ridge model. For this approach it is necessary to normalize the data on the X axis.\n",
        "\"\"\"This, unfortunately does not learn a compact model, but stores a lot of data\n",
        "which is also used to make the predictions.\"\"\"\n",
        "kr = KernelRidge(alpha=0.1, kernel='poly')#A kernel ridge model, with a linear kernel by default. We use a polynomial one.\n",
        "kr.fit(X_subset_scaled, Y_subset) \n",
        "kr_predict=kr.predict(X_subset_scaled)\n",
        "kr_mae=mean_absolute_error(Y_subset, kr_predict)\n",
        "max_ae.append(max_absolute_error(Y_subset, kr_predict))\n",
        "\n",
        "#We also consider a Gaussian process model\n",
        "\"\"\"This, unfortunately has a large memory footprint.\"\"\"\n",
        "gpr = GaussianProcessRegressor(random_state=0)\n",
        "gpr.fit(X_subset, Y_subset)\n",
        "gpr_predict=gpr.predict(X_subset)\n",
        "gpr_mae=mean_absolute_error(Y_subset, gpr_predict)\n",
        "max_ae.append(max_absolute_error(Y_subset, gpr_predict))\n",
        "\n",
        "#We also consider an AdaBoost model\n",
        "ab= AdaBoostRegressor(random_state=0, n_estimators=100)\n",
        "ab.fit(X_subset, Y_subset)  \n",
        "ab_predict=ab.predict(X_subset)\n",
        "ab_mae=mean_absolute_error(Y_subset, ab_predict)\n",
        "max_ae.append(max_absolute_error(Y_subset, ab_predict))\n",
        "\n",
        "#We also consider a Decision Tree model\n",
        "dt = DecisionTreeRegressor(random_state=0)\n",
        "dt.fit(X_subset, Y_subset)\n",
        "dt_predict=dt.predict(X_subset)\n",
        "dt_mae=mean_absolute_error(Y_subset, dt_predict)\n",
        "max_ae.append(max_absolute_error(Y_subset, dt_predict))\n",
        "\n",
        "#TODO: Add here an SVR model... don't forget to also add its max absolute error value to max_ae\n",
        "\n",
        "\n",
        "mean_absolute_error_regressors=[lr_mae, lasso_mae, ts_mae, kr_mae, gpr_mae, ab_mae, dt_mae]\n",
        "labels_regressors=[\"LR\", \"Lasso\", \"TS\", \"KR\", \"GP\", \"AB\", \"DT\"]\n",
        "summary = dict()\n",
        "for i in range(0,len(labels_regressors)):\n",
        "  summary[labels_regressors[i]]=dict()\n",
        "  summary[labels_regressors[i]][\"Mean Absolute Error\"]=mean_absolute_error_regressors[i]\n",
        "  summary[labels_regressors[i]][\"Max Absolute Error\"]=max_ae[i]\n",
        "g = sns.barplot(x=labels_regressors, y=mean_absolute_error_regressors)\n",
        "g.set_title(\"Mean absolute error for different models\", y=1.08)\n",
        "plt.show()\n"
      ],
      "execution_count": 0,
      "outputs": []
    },
    {
      "cell_type": "markdown",
      "metadata": {
        "id": "KliLNH1qJVhG",
        "colab_type": "text"
      },
      "source": [
        "For your **submission item #2** extend the former code box with one Support Vector Regressor model. Here are examples: [SVR@sklearn](https://scikit-learn.org/stable/auto_examples/svm/plot_svm_regression.html). Plot the results of this model  after the results of DT, in the former code box, and save the plot to a file, for your submission. Add to the filename, or in a note, the basic details about your configuration (e.g. SVR_deg3_gamma_auto.png). For this method, just like for Kernel Ridge regressor, it is good practice to use X_subset_scaled (otherwise it takes a lot of time to run, and the results are deteriorated).\n",
        "\n",
        "Now let's take a look at how the predictions actually match for the models that you have.\n",
        "\n",
        "First we do this on a subset of the first 10 values. For your **submission item #3**, produce and download the plot for the first 1000 values, and observe better how linear models give a reasonable approximation (though without visually seeming to improve over GP and DT). This might take some minutes to run.\n",
        "\n",
        "If the SVR was not possible to implement, still submit the results for the item #3 without this model.\n",
        "\n",
        "If not vissible, remember that DT and GP are currently equal to the target function."
      ]
    },
    {
      "cell_type": "code",
      "metadata": {
        "id": "pc4JrjFUr5YZ",
        "colab_type": "code",
        "colab": {}
      },
      "source": [
        "#TODO: Change to show 1000 values. If needed, also add the SVR predictions.\n",
        "\n",
        "X_plot=df['L_EXTENDEDPRICE']\n",
        "x_axis= X_plot[:10]\n",
        "sns.set_palette(\"bright\")\n",
        "g= sns.lineplot(x=x_axis, y=Y_subset[:10], label=\"Target\")\n",
        "g= sns.lineplot(ax=g, x=x_axis, y=lr_predict[:10], label=\"LR Predictions\")\n",
        "g= sns.lineplot(ax=g, x=x_axis, y=lasso_predict[:10], label=\"Lasso Predictions\")\n",
        "g= sns.lineplot(ax=g, x=x_axis, y=ts_predict[:10], label=\"TheilSen Predictions\")\n",
        "g= sns.lineplot(ax=g, x=x_axis, y=kr_predict[:10], label=\"Kernel Ridge Predictions\")\n",
        "g= sns.lineplot(ax=g, x=x_axis, y=gpr_predict[:10], label=\"Gaussian Process Predictions\")\n",
        "g= sns.lineplot(ax=g, x=x_axis, y=ab_predict[:10], label=\"AdaBoost Predictions\")\n",
        "g= sns.lineplot(ax=g, x=x_axis, y=dt_predict[:10], label=\"Decision Tree Predictions\")\n",
        "\n",
        "g.set_title(\"Extended Price Sort Key (for first 10 entries), compared to predictions\", y=1.08)\n",
        "plt.show()"
      ],
      "execution_count": 0,
      "outputs": []
    },
    {
      "cell_type": "markdown",
      "metadata": {
        "id": "kkABnBpZ1bcS",
        "colab_type": "text"
      },
      "source": [
        "We see non-linear models perform well, but there is an overhead in their memory footprint. Let's evaluate that. To estimate the memory usage we serialize the models, using the pickle library. \n",
        "\n",
        "Optionally, add to this plot (and send) the SVR model's footprint."
      ]
    },
    {
      "cell_type": "code",
      "metadata": {
        "id": "JR78yQvr1lM-",
        "colab_type": "code",
        "colab": {}
      },
      "source": [
        "#TODO: If possible, add the SVR model.\n",
        "\n",
        "import pickle\n",
        "labels_regressors=[\"LR\", \"Lasso\", \"TS\", \"KR\", \"GP\", \"AB\", \"DT\"]\n",
        "model_names=[\"Orig. data\"]\n",
        "model_names.extend(labels_regressors)\n",
        "\n",
        "memory_footprint_of_models= [\n",
        "    len(pickle.dumps(Y_subset))+len(pickle.dumps(X_subset)),\n",
        "    len(pickle.dumps(lr)), \n",
        "    len(pickle.dumps(lasso)), \n",
        "    len(pickle.dumps(ts)), \n",
        "    len(pickle.dumps(kr)),\n",
        "    len(pickle.dumps(gpr)),\n",
        "    len(pickle.dumps(ab)),\n",
        "    len(pickle.dumps(dt))]\n",
        "\n",
        "for i in range(0,len(labels_regressors)):\n",
        "  summary[labels_regressors[i]][\"Memory (bytes)\"]=memory_footprint_of_models[i+1]\n",
        "  \n",
        "g = sns.barplot(x=model_names, \n",
        "    y=memory_footprint_of_models,palette=sns.xkcd_palette([\"windows blue\", \"amber\", \"greyish\", \"faded green\", \n",
        "                                  \"dusty purple\"]))\n",
        "g.set_yscale('log')\n",
        "g.set_title(\"Estimated memory footprint (in bytes) of the models\", y=1.08)\n",
        "plt.show()\n"
      ],
      "execution_count": 0,
      "outputs": []
    },
    {
      "cell_type": "markdown",
      "metadata": {
        "id": "-Jd22p6VQQar",
        "colab_type": "text"
      },
      "source": [
        "The memory footprint plot shows that all linear models are notably smaller in their memory usage, when compared to the original data. Models from KR onwards are closer to (or larger) than the size of the original data."
      ]
    },
    {
      "cell_type": "markdown",
      "metadata": {
        "id": "icN1PR7b1l3i",
        "colab_type": "text"
      },
      "source": [
        "**Bonus:** An open question all the time, when testing a model, is: What is the impact of hyper-parameters? Or stated differently, how can we be sure that we picked the best model configuration?\n",
        "\n",
        "In the following code snippet is an example of how, in practice, grid search is done, to find the best set of hyper-parameters for a given model.\n",
        "\n",
        "Please note that the scores will not match those of the algorithm in the previous sections, since the grid search evaluates on splits of test-train. "
      ]
    },
    {
      "cell_type": "code",
      "metadata": {
        "id": "EVifvich6jBF",
        "colab_type": "code",
        "colab": {}
      },
      "source": [
        "from sklearn.model_selection import GridSearchCV\n",
        "from sklearn.metrics import make_scorer\n",
        "\n",
        "#Since this throws some warnings, let's not consider them...\n",
        "import warnings\n",
        "warnings.filterwarnings(\"ignore\")\n",
        "\n",
        "parameters = {'kernel':('linear', 'rbf', 'poly'), 'alpha':[0.1, 1.0]}#Other parameters could be included\n",
        "base_model = KernelRidge()\n",
        "grid = GridSearchCV(base_model, parameters, cv=2, scoring=make_scorer(mean_absolute_error, greater_is_better=False))\n",
        "grid.fit(X_subset_scaled, Y_subset)\n",
        "\n",
        "print(\"Best parameter set found:\")\n",
        "print(grid.best_params_)\n",
        "\n",
        "print(\"Grid scores found:\")\n",
        "means = grid.cv_results_['mean_test_score']\n",
        "stds = grid.cv_results_['std_test_score']\n",
        "for mean, std, params in zip(means, stds, grid.cv_results_['params']):\n",
        "  print(\"%0.3f (+/-%0.03f) for %r\"% (mean, std * 2, params))\n",
        "\n"
      ],
      "execution_count": 0,
      "outputs": []
    },
    {
      "cell_type": "markdown",
      "metadata": {
        "id": "UP-H0jVgpotA",
        "colab_type": "text"
      },
      "source": [
        ![](data:image/jpeg;base64,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)
        "Next, we'll start with a neural network model, which forms a good trade-off between memory footprint and the behavior in the regression task."
      ]
    },
    {
      "cell_type": "code",
      "metadata": {
        "id": "TxHJc-qqYFhI",
        "colab_type": "code",
        "colab": {}
      },
      "source": [
        "from keras.models import Sequential\n",
        "from keras.layers import Dense\n",
        "from keras import regularizers\n",
        "\n",
        "print(\"Done importing some necessary dependencies.\")"
      ],
      "execution_count": 0,
      "outputs": []
    },
    {
      "cell_type": "code",
      "metadata": {
        "id": "q5x-Jvz4rI9A",
        "colab_type": "code",
        "colab": {}
      },
      "source": [
        "#We attempt first a naive implementation that considers all of the data\n",
        "\n",
        "def NN_regressor():\n",
        "  model= Sequential()\n",
        "  model.add(Dense(128,input_dim=1, kernel_initializer='normal', activation='relu', kernel_regularizer=regularizers.l2(0.01)))\n",
        "  model.add(Dense(1,input_dim=128, kernel_initializer='normal', activation='linear'))\n",
        "  model.compile(loss='mean_absolute_error', optimizer='adam')\n",
        "  return model\n",
        "\n",
        "naive_model = NN_regressor()\n",
        "naive_model.fit(x=X, y=Y, epochs=10,steps_per_epoch=20,verbose=1)\n",
        "\n",
        "print(\"Done with fitting a naive model\")\n"
      ],
      "execution_count": 0,
      "outputs": []
    },
    {
      "cell_type": "markdown",
      "metadata": {
        "id": "VbnXL76EX9m2",
        "colab_type": "text"
      },
      "source": [
        "Training such models over the whole dataset will require some effort. Given the size of datasets, it would be easier to break the learning of the model into a hierarchical solution: At the top a multi-class classifier, deciding which model from underneath would answer to the query. At the bottom, a series of regressors learning on a given subset of data.\n",
        "\n",
        "This smart idea was suggested by Kraska et al., calling such ensemble a Recursive Index Model. ![alt text](https://adriancolyer.files.wordpress.com/2018/01/learned-index-fig-3.jpeg?w=520)\n",
        "\n",
        "In the next task, let's build and train one such model consisting of one parent, and 4 regressor nodes as children. \n",
        "\n",
        "To this end we need to start by creating a mapping between the L_EXTENDEDPRICE and 4 class\n",
        "labels corresponding to the children nodes.\n",
        "\n",
        "Here we will assign labels 0,1,2,3 by breaking the data points based on the quantiles.\n",
        "To learn about the parameters and configurations available for building networks with Keras, check their documentation: [Keras](https://keras.io/).\n"
      ]
    },
    {
      "cell_type": "code",
      "metadata": {
        "id": "5tQo_v6dd3v6",
        "colab_type": "code",
        "colab": {}
      },
      "source": [
        "price_quantiles=[\n",
        "    np.quantile(df['L_EXTENDEDPRICE'], .25),\n",
        "    np.quantile(df['L_EXTENDEDPRICE'], .50),\n",
        "    np.quantile(df['L_EXTENDEDPRICE'], .75)]\n",
        "\n",
        "df['classifier_labels']=[0 if x<=price_quantiles[0] \n",
        "                      else \n",
        "                             1 if x<=price_quantiles[1]\n",
        "                      else\n",
        "                             2 if x<=price_quantiles[2]\n",
        "                      else\n",
        "                             3 for x in df['L_EXTENDEDPRICE']]\n",
        "\n",
        "print(\"Done, with assigning labels to items based on quantiles.\")\n"
      ],
      "execution_count": 0,
      "outputs": []
    },
    {
      "cell_type": "code",
      "metadata": {
        "id": "b3M9f98Z1OBm",
        "colab_type": "code",
        "colab": {}
      },
      "source": [
        "from sklearn.utils import shuffle\n",
        "from sklearn import preprocessing\n",
        "from keras.utils.np_utils import to_categorical\n",
        "\n",
        "df = shuffle(df) \n",
        "\n",
        "#Some house keeping, encoding the labels\n",
        "encoder = preprocessing.LabelEncoder()\n",
        "encoder.fit(df['classifier_labels'])\n",
        "encoded_Y = encoder.transform(df['classifier_labels'])\n",
        "# We convert integers to dummy variables (i.e. one hot encoded)\n",
        "dummy_y = to_categorical(encoded_Y)\n",
        "\n",
        "print(\"Done with some prep to train the recursive model index parent model (the classifier).\")"
      ],
      "execution_count": 0,
      "outputs": []
    },
    {
      "cell_type": "code",
      "metadata": {
        "id": "3mgYmMWbuYEj",
        "colab_type": "code",
        "colab": {}
      },
      "source": [
        "#Here we define and train a multi-class classifier mapping to 4 classes\n",
        "def NN_classifier():\n",
        "  model= Sequential()\n",
        "  model.add(Dense(12,input_dim=1, kernel_initializer='uniform', activation='relu'))\n",
        "  model.add(Dense(8,input_dim=12, kernel_initializer='uniform', activation='relu'))\n",
        "  model.add(Dense(output_dim=4,input_dim=8, kernel_initializer='uniform', activation='softmax'))\n",
        "  model.compile(loss='categorical_crossentropy', optimizer='adam', metrics=['accuracy']) \n",
        "  return model\n",
        "\n",
        "#In the following we train a model that should have a classification accuracy higher than 90%\n",
        "parent_model = NN_classifier()\n",
        "parent_model.fit(x=df['L_EXTENDEDPRICE'], y=dummy_y, epochs=15,verbose=1)\n",
        "\n",
        "print(\"Done with fitting the parent model.\")"
      ],
      "execution_count": 0,
      "outputs": []
    },
    {
      "cell_type": "markdown",
      "metadata": {
        "id": "nIJCPXEriPJ_",
        "colab_type": "text"
      },
      "source": [
        "Now we have built a classifier. It is time to evaluate it."
      ]
    },
    {
      "cell_type": "code",
      "metadata": {
        "id": "TUX9FJj39fR2",
        "colab_type": "code",
        "colab": {}
      },
      "source": [
        "#Here we load a model that corresponds to a pre-trained classifier (just to make sure we have a very accurate model for the next steps).\n",
        "\n",
        "from keras.models import load_model\n",
        "from urllib.request import urlopen\n",
        "remote_model_data = urlopen('https://github.com/gabrielcc2/atdbSS2019/raw/master/models/parent_model.h5').read()\n",
        "f = open('parent_model.h5', 'wb')\n",
        "f.write(remote_model_data)\n",
        "parent_model = load_model('parent_model.h5')\n",
        "\n",
        "print(\"Done with loading a pre-trained parent model\")\n"
      ],
      "execution_count": 0,
      "outputs": []
    },
    {
      "cell_type": "code",
      "metadata": {
        "id": "_7npBMJ5y7x3",
        "colab_type": "code",
        "colab": {}
      },
      "source": [
        "#Let's check the accuracy of the model we just loaded (this might take some time)\n",
        "from sklearn.metrics import accuracy_score\n",
        "\n",
        "parent_model_preds=[np.argmax(parent_model.predict([x], batch_size=1)) for x in df['L_EXTENDEDPRICE']] #Here the predictions are the positions that ranked higher from the one hot encoding.\n",
        "\n",
        "print(\"Accuracy score for pre-trained classifier: \"+str(accuracy_score(df['classifier_labels'], parent_model_preds)))\n",
        "\n",
        "\n"
      ],
      "execution_count": 0,
      "outputs": []
    },
    {
      "cell_type": "markdown",
      "metadata": {
        "id": "aD2-egn2iZiI",
        "colab_type": "text"
      },
      "source": [
        "After building and evaluating the parent model (i.e., the classifier), we can train the leaf nodes."
      ]
    },
    {
      "cell_type": "code",
      "metadata": {
        "id": "zdhLSVn9GgWP",
        "colab_type": "code",
        "colab": {}
      },
      "source": [
        "#Now we replace the original labels with those given by the predictor.\n",
        "\n",
        "#We will use the predictions of the parent model to distribute the data to child nodes when training.\n",
        "\n",
        "df['new_classifier_labels']=parent_model_preds\n",
        "\n",
        "# The following line could work for checking that all items in X_subset are for the first regressor\n",
        "#print([np.argmax(parent_model.predict([x], batch_size=1)) for x in X_subset])\n",
        "\n",
        "print(\"We stored the predictions of the parent model, to use them as our new labels.\")"
      ],
      "execution_count": 0,
      "outputs": []
    },
    {
      "cell_type": "code",
      "metadata": {
        "id": "Hgp1fe2lCRYh",
        "colab_type": "code",
        "colab": {}
      },
      "source": [
        "models=[]\n",
        "print(\"We created an empty models array, to store the leaf nodes from the recursive model index.\")"
      ],
      "execution_count": 0,
      "outputs": []
    },
    {
      "cell_type": "code",
      "metadata": {
        "id": "yh6LwGQGLX2Q",
        "colab_type": "code",
        "colab": {}
      },
      "source": [
        "#Now we are going to train the four child regressor models\n",
        "#This will take some time. You could try changing the number of epochs, to train less.\n",
        "\n",
        "def NN_regressor():\n",
        "  model= Sequential()\n",
        "  model.add(Dense(32,input_dim=1, kernel_initializer='he_uniform', activation='relu'))\n",
        "  model.add(Dense(32,input_dim=32, kernel_initializer='he_uniform', activation='relu'))\n",
        "  model.add(Dense(128,input_dim=32, kernel_initializer='he_uniform', activation='relu'))\n",
        "  model.add(Dense(1,input_dim=128, kernel_initializer='he_uniform', activation='relu'))\n",
        "  model.compile(loss='mean_squared_error', optimizer='adamax', metrics=['mae'])\n",
        "  return model\n",
        "\n",
        "for item in range(0,4):#If some regressors did not train well (based on a bug in Colab regarding starting training), you can retrain them by selecing their numbers here \n",
        "  if (len(models)==item):\n",
        "    models.append(NN_regressor())\n",
        "  else:\n",
        "    models[item]=NN_regressor()\n",
        "  df_subset=df[df['new_classifier_labels']==item]\n",
        "  models[item].fit(x=df_subset['L_EXTENDEDPRICE_SCALED'], y=df_subset['L_EXTENDEDPRICE_SORT_KEY'], epochs=20, verbose=1)\n",
        "  models[item].save(\"reg_model_\"+str(item)+\".h5\")\n",
        "  \n",
        "print(\"Great! We created and trained our 4 regressors.\")\n",
        "\n"
      ],
      "execution_count": 0,
      "outputs": []
    },
    {
      "cell_type": "markdown",
      "metadata": {
        "id": "RFqlh1R8qYTz",
        "colab_type": "text"
      },
      "source": [
        "That was quite a good job! Now we have one recursive model index.\n",
        "\n",
        "Please note that the architectures of the parent and leave nodes are not guaranteed to be the best possible ones given our data and the learning task; however they are sufficient to have an end-to-end index.\n",
        "\n",
        "For those interested in automating network search, here are some references of ongoing projects: [AutoKeras](https://github.com/keras-team/autokeras), [Neural Architecture Search with Reinforcement Learning](https://ai.google/research/pubs/pub45826) and [NAS Bench](https://github.com/google-research/nasbench).\n",
        "\n",
        "Let's consider next the overall mean absolute error, and the maximum error of our RMI model. To this end, in the next code box, we'll load some pre-trained models for the regressors. You can alternatively skip to the following code box and test your local models."
      ]
    },
    {
      "cell_type": "code",
      "metadata": {
        "id": "Cifs0NcbHpBe",
        "colab_type": "code",
        "colab": {}
      },
      "source": [
        "\"\"\"Warning: In this code box you delete the models that you just created, and replace them\n",
        "with pre-trained models\"\"\"\n",
        "\n",
        "models=[]\n",
        "for item in range(0,4):\n",
        "  remote_model_data = urlopen('https://github.com/gabrielcc2/atdbSS2019/raw/master/models/'+\"reg_model_\"+str(item)+\".h5\").read()\n",
        "  f = open(\"reg_model_\"+str(item)+\".h5\", 'wb')\n",
        "  f.write(remote_model_data)\n",
        "  models.append(load_model(\"reg_model_\"+str(item)+\".h5\"))\n",
        "  print(\"Fetched model #\"+str(item))\n",
        "print(\"Done fetching remote pre-trained models\")"
      ],
      "execution_count": 0,
      "outputs": []
    },
    {
      "cell_type": "markdown",
      "metadata": {
        "id": "H2Xx3K_QcaYl",
        "colab_type": "text"
      },
      "source": [
        "This might take some time to run."
      ]
    },
    {
      "cell_type": "code",
      "metadata": {
        "id": "JTpESy5HZT1c",
        "colab_type": "code",
        "colab": {}
      },
      "source": [
        "def max_absolute_error(y, y_pred):\n",
        "    return np.max(np.abs(y - y_pred))\n",
        "\n",
        "mean_absolute_errors=[]\n",
        "max_absolute_errors=[]\n",
        "max_error=0\n",
        "for item in range(0,4):\n",
        "  df_subset=df[df['new_classifier_labels']==item]\n",
        "  x_=df_subset['L_EXTENDEDPRICE_SCALED']\n",
        "  y_=df_subset['L_EXTENDEDPRICE_SORT_KEY']\n",
        "  preds=[models[item].predict([x], batch_size=1)[0] for x in x_]\n",
        "  mean_absolute_errors.append(mean_absolute_error(y_, preds))\n",
        "  preds=np.array(preds)\n",
        "  preds=preds.reshape(np.shape(preds)[0])\n",
        "  error= max_absolute_error(y_, preds)\n",
        "  max_absolute_errors.append(error)\n",
        "  if error>max_error:\n",
        "    max_error=error\n",
        "\n",
        "print(\"(Drumrolls please...)\")\n",
        "print(\"****Results for the Recursive Model Index (on the complete data)****\")\n",
        "print(\"Mean absolute error per model: \")\n",
        "print(mean_absolute_errors)\n",
        "print(\"Mean absolute error: \"+str(np.mean(mean_absolute_errors)))\n",
        "print(\"Max absolute error per model: \")\n",
        "print(max_absolute_errors)\n",
        "print(\"Max error: \"+str(max_error))"
      ],
      "execution_count": 0,
      "outputs": []
    },
    {
      "cell_type": "code",
      "metadata": {
        "id": "D0xDOFD7h5mM",
        "colab_type": "code",
        "colab": {}
      },
      "source": [
        "#Here we calculate the errors on X_subset, such that we can compare it with the regressors we trained at the start\n",
        "max_error=0\n",
        "preds=[models[0].predict([x], batch_size=1)[0] for x in X_subset_scaled]\n",
        "rmi_mae = mean_absolute_error(Y_subset, preds)\n",
        "for i in range(0,len(Y_subset)):\n",
        "  if Y_subset.iloc[i]>preds[i]:\n",
        "    error= Y_subset.iloc[i]-preds[i]\n",
        "  else:\n",
        "    error= preds[i]-Y_subset.iloc[i]\n",
        "  if error>max_error:\n",
        "    max_error=error[0]\n",
        "\n",
        "summary[\"RMI\"]=dict()\n",
        "summary[\"RMI\"][\"Mean Absolute Error\"]=rmi_mae\n",
        "summary[\"RMI\"][\"Max Absolute Error\"]=max_error\n",
        "\n",
        "print(\"Mean absolute error for RMI: \"+str(rmi_mae))\n",
        "print(\"Max error for RMI: \"+str(max_error))\n",
        "\n",
        "\n",
        "sns.set_palette(\"Set2\")\n",
        "names=list(summary.keys())\n",
        "g = sns.barplot(x=names, y=[summary[key][\"Mean Absolute Error\"] for key in names])\n",
        "g.set_title(\"Mean absolute error for different models\", y=1.08)\n",
        "plt.show()\n",
        "\n"
      ],
      "execution_count": 0,
      "outputs": []
    },
    {
      "cell_type": "markdown",
      "metadata": {
        "id": "4WX_j0EFPQxJ",
        "colab_type": "text"
      },
      "source": [
        "RMI should not be doing that bad in this subset."
      ]
    },
    {
      "cell_type": "markdown",
      "metadata": {
        "id": "otOrCXivRyY1",
        "colab_type": "text"
      },
      "source": [
        "Pack the previous plot and the following plot, these are your **submission items #4 and #5**. With this you conclude the assignment, but you are welcome to check the extra task, to learn more."
      ]
    },
    {
      "cell_type": "code",
      "metadata": {
        "id": "fa6vXUlcmUDn",
        "colab_type": "code",
        "colab": {}
      },
      "source": [
        "\n",
        "model_names=[\"Orig. data\", \"LR\", \"Lasso\", \"TS\", \"KR\", \"GP\", \"AB\", \"DT\"]\n",
        "memory_footprint_of_models= [\n",
        "    len(pickle.dumps(Y_subset))+len(pickle.dumps(X_subset)),\n",
        "    len(pickle.dumps(lr)), \n",
        "    len(pickle.dumps(lasso)), \n",
        "    len(pickle.dumps(ts)), \n",
        "    len(pickle.dumps(kr)),\n",
        "    len(pickle.dumps(gpr)),\n",
        "    len(pickle.dumps(ab)),\n",
        "    len(pickle.dumps(dt))]\n",
        "\n",
        "model_names.append(\"RMI\")\n",
        "memory_footprint_of_models.append(len(pickle.dumps(models[0]))+len(pickle.dumps(parent_model)))\n",
        "\n",
        "model_names.append(\"RMI_w\")\n",
        "memory_footprint_of_models.append(len(pickle.dumps(models[0].get_weights()))+len(pickle.dumps(parent_model.get_weights())))\n",
        "summary[\"RMI\"][\"Memory (bytes)\"]=len(pickle.dumps(models[0].get_weights()))+len(pickle.dumps(parent_model.get_weights()))\n",
        "\n",
        "g = sns.barplot(x=model_names, \n",
        "    y=memory_footprint_of_models,palette=sns.xkcd_palette([\"windows blue\", \"amber\", \"greyish\", \"faded green\", \n",
        "                                  \"dusty purple\"]))\n",
        "g.set_yscale('log')\n",
        "g.set_title(\"Estimated memory footprint (in bytes) of the models\", y=1.08)\n",
        "plt.show()"
      ],
      "execution_count": 0,
      "outputs": []
    },
    {
      "cell_type": "markdown",
      "metadata": {
        "id": "QGrNcAzJoD8O",
        "colab_type": "text"
      },
      "source": [
        "As a result, we see that the recursive model index we built, using neural networks represents a good solution for having a low mean absolute error, low maximum absolute error, and a limited memory footprint, when compared to other models. \n",
        "\n",
        "In our implementation, depending on our choice of neural architecture, it might be that Decision Trees seem to be better solutions in the trade-off between memory efficiency and mean average error.\n",
        "\n",
        "Smaller network structures could also be employed, reducing the footprint of the RMIs. This approach is also comparatively promising when considering only the weights that need to be kept (as RMI_w in the plot).\n",
        "\n",
        "**This section concludes the programming assignment. **\n",
        "\n",
        "In an extra section you can (optionally) evaluate the structure that we built, considering how it performs in the search task."
      ]
    },
    {
      "cell_type": "code",
      "metadata": {
        "id": "BWfbd8S7MMn-",
        "colab_type": "code",
        "colab": {}
      },
      "source": [
        "\"\"\"To wrap things up, let's make a summary, to get a better sense of the trade-offs.\n",
        "\"\"\"\n",
        "print(pd.DataFrame.from_dict(summary).transpose())"
      ],
      "execution_count": 0,
      "outputs": []
    },
    {
      "cell_type": "markdown",
      "metadata": {
        "id": "htGx2u2T4gdR",
        "colab_type": "text"
      },
      "source": [
        "# Takeaways\n",
        "\n",
        "Kudos! You made it to the end of this programming assignment :)\n",
        "\n",
        "For students of the \"Advanced Topics in Databases\" course, please pack in a zip file **submission items #1-#5**, and send them to: campero@ovgu.de. This constitutes your submission, to be evaluated. The deadline is 30.06.19, 11:59 pm CET. Please add some feedback to the submission email, answering at least to the following questions: \n",
        "1.   On a scale from 1-5 (great to terrible), did you find this assignment to be relevant in developing skills useful for your professional path? \n",
        "2.  How would you rate the difficulty of the assignment, on a 1-5 scale (from very easy to very difficult)?\n",
        "3. What suggestions for improvement would you like us to consider?\n",
        "\n",
        "By the end of this assignment you should:\n",
        "\n",
        "1. Understand some of the key ideas for using *learned models* to solve everyday computing tasks: the role of the cummulative distribution function and how recursive model indexes can be built.\n",
        "2.  Be more familiarized with colab, pandas, seaborn, sklearn and keras, as a set of tools for building models and data exploration.\n",
        "3. Be encouraged to think on machine learning models with a practical perspective, considering their memory footprint and details that affect their execution time.\n",
        "\n",
        "![](https://drive.google.com/uc?export=view&id=1AjWDi6cnpxY21WExPRa7ltXmzts7RvHs)\n",
        "\n",
        "If you successfully completed this task, you found it to be enjoyable & would like to collaborate in researching applications of AI techniques in data management, please contact: campero@ovgu.de.\n",
        "\n",
        "If you would like to know more about the challenges for building automatically this kind of index structures, in a real-world scenario, and managing ML models in production, here is a good reference on the monitoring and testing tasks that are required: Breck, Eric, Shanqing Cai, Eric Nielsen, Michael Salib, and D. Sculley. \"The ml test score: A rubric for ml production readiness and technical debt reduction.\" In 2017 IEEE International Conference on Big Data (Big Data), pp. 1123-1132. IEEE, 2017.\n",
        "Further work advancing learned index structures should be ultimately visible [here](https://scholar.google.de/scholar?cites=15186041802906124026&as_sdt=2005&sciodt=0,5&hl=en). Of special note we would like to highlight some interesting recent work: Ding, Jialin, Umar Farooq Minhas, Hantian Zhang, Yinan Li, Chi Wang, Badrish Chandramouli, Johannes Gehrke, Donald Kossmann, and David Lomet. \"ALEX: An Updatable Adaptive Learned Index.\" arXiv preprint arXiv:1905.08898 (2019)."
      ]
    },
    {
      "cell_type": "markdown",
      "metadata": {
        "id": "ftN-vMxb4Omm",
        "colab_type": "text"
      },
      "source": [
        "# Extra part (Optional): Efficient Inference\n",
        "\n",
        "(Estimated time: 40 minutes)\n",
        "\n",
        "To be added, stay tuned."
      ]
    }
  ]
}
