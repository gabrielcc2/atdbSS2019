{
  "nbformat": 4,
  "nbformat_minor": 0,
  "metadata": {
    "colab": {
      "name": "Range search with learned models@ATDBSS2019.ipynb",
      "version": "0.3.2",
      "provenance": [],
      "collapsed_sections": [],
      "toc_visible": true,
      "include_colab_link": true
    },
    "kernelspec": {
      "name": "python3",
      "display_name": "Python 3"
    }
  },
  "cells": [
    {
      "cell_type": "markdown",
      "metadata": {
        "id": "view-in-github",
        "colab_type": "text"
      },
      "source": [
        "<a href=\"https://colab.research.google.com/github/gabrielcc2/atdbSS2019/blob/master/Range_search_with_learned_models_ATDBSS2019.ipynb\" target=\"_parent\"><img src=\"https://colab.research.google.com/assets/colab-badge.svg\" alt=\"Open In Colab\"/></a>"
      ]
    },
    {
      "cell_type": "markdown",
      "metadata": {
        "id": "P5T5QDLL1UBG",
        "colab_type": "text"
      },
      "source": [
        "# **Range search with learned models**\n",
        "\n",
        "---\n",
        "\n",
        "\n",
        "\n",
        "\n"
      ]
    },
    {
      "cell_type": "markdown",
      "metadata": {
        "id": "x1T3_N8f17Im",
        "colab_type": "text"
      },
      "source": [
        "# Introduction\n",
        "\n",
        "Welcome everyone.\n",
        "\n",
        "Today we're gonna have a look at how to support range queries with learned models. This notebook is an assignment from the course [\"Advanced Topics in Databases\"](http://www.dbse.ovgu.de/Lehre/ATDB.html), at the University of Magdeburg. Resolving the task should take between 2-3 hours, so plan accordingly.\n",
        "\n",
        "Before jumping into action, some housekeeping notes:\n",
        "\n",
        "1.  For submitting the task 5 items (identified in bold, as **submission items**) are required to be sent to campero@ovgu.de, by 30.06.19, 11:59 pm CET.  \n",
        "2.   If there is any complication or there are questions with this assignment, feel free to reach out to campero@ovgu.de. To our knowledge one possible bug might happen when running the Keras training code boxes. The error is that the model starts training but does not seem to make any progress in the first set of epochs. It seems to be a silent error when connecting to the backend. Stopping and restarting the code box usually fixes this.\n",
        "3.   To work with this notebook you will need to open it in Colab, and make a copy to your personal Google Drive. This is necessary to store some intermediate files. The Colaboratory site will guide you about what you need to do.\n",
        "4.   Another pertinent tip, for using Colab: remember to pick a GPU runtime (Edit->Notebook settings), to train the neural network models faster. If you would like to know (optionally) how to train the models we have with the TPUs currently provided, there are some references available [here](https://medium.com/@jannik.zuern/using-a-tpu-in-google-colab-54257328d7da).\n",
        "5.   If you need any help working with Colab, there are great resources [here](https://colab.research.google.com/notebooks/welcome.ipynb). It should not be specially challenging.\n",
        "\n",
        "Traditionally range queries are supported with efficient index structures that allow you to determine the position of the item in the lower bound, the position of the item in the higher bound, and then the positions of items within.\n",
        "\n",
        "An example of a range query could look like this: \n",
        "SELECT \n",
        "    * \n",
        "FROM\n",
        "    lineitem\n",
        "WHERE\n",
        "    l_extendedprice >= 1000 AND l_extendedprice <= 10000;\n",
        "    \n",
        "These kind of queries are a basic building block in data exploration.\n",
        "\n",
        "The idea of supporting this kind of queries with learned models comes from Kraska et al. (https://arxiv.org/abs/1712.01208). These authors had that insight that search can actually be replaced by inference, if there exists a model that maps between the search key and the target position where the item is to be found. This mapping can be ultimately powered by a regressor model.\n",
        "\n",
        "Authors show that other tasks (such as existence queries, and point-lookups) can be supported with learned models too.\n",
        "\n",
        "The use of these models, specially when they are compact, constitutes an elegant adaptation of a data structure to data characteristics. When these models are, in fact, sufficiently compact, the search over these models could be expected to be faster than search over the original data. Hence these are the cornerstone gains from the models: adaptation to the data, reduced storage, improved search. \n",
        "\n",
        "Today we're going to have a quick experiment on building such models, and in making them efficient at inference (i.e., the search task). \n",
        "\n",
        "Please note that the implementation offered for this task is purely illustrative. It is not intended to be representative of the actual state-of-the-art in building these structures.\n",
        "\n",
        "Without further ado (and assuming that you've already opened the notebook in Colab), run the following block to install some dependencies, and let's get started."
      ]
    },
    {
      "cell_type": "code",
      "metadata": {
        "id": "90uSdyL7epFu",
        "colab_type": "code",
        "outputId": "16ad5a55-5d63-448e-f7ce-772f603e8737",
        "colab": {
          "base_uri": "https://localhost:8080/",
          "height": 417
        }
      },
      "source": [
        "!pip install matplotlib pandas seaborn sklearn keras \n",
        "\n",
        "print(\"Done installing dependencies.\")"
      ],
      "execution_count": 0,
      "outputs": [
        {
          "output_type": "stream",
          "text": [
            "Requirement already satisfied: matplotlib in /usr/local/lib/python3.6/dist-packages (3.0.3)\n",
            "Requirement already satisfied: pandas in /usr/local/lib/python3.6/dist-packages (0.24.2)\n",
            "Requirement already satisfied: seaborn in /usr/local/lib/python3.6/dist-packages (0.9.0)\n",
            "Requirement already satisfied: sklearn in /usr/local/lib/python3.6/dist-packages (0.0)\n",
            "Requirement already satisfied: keras in /usr/local/lib/python3.6/dist-packages (2.2.4)\n",
            "Requirement already satisfied: pyparsing!=2.0.4,!=2.1.2,!=2.1.6,>=2.0.1 in /usr/local/lib/python3.6/dist-packages (from matplotlib) (2.4.0)\n",
            "Requirement already satisfied: numpy>=1.10.0 in /usr/local/lib/python3.6/dist-packages (from matplotlib) (1.16.4)\n",
            "Requirement already satisfied: python-dateutil>=2.1 in /usr/local/lib/python3.6/dist-packages (from matplotlib) (2.5.3)\n",
            "Requirement already satisfied: kiwisolver>=1.0.1 in /usr/local/lib/python3.6/dist-packages (from matplotlib) (1.1.0)\n",
            "Requirement already satisfied: cycler>=0.10 in /usr/local/lib/python3.6/dist-packages (from matplotlib) (0.10.0)\n",
            "Requirement already satisfied: pytz>=2011k in /usr/local/lib/python3.6/dist-packages (from pandas) (2018.9)\n",
            "Requirement already satisfied: scipy>=0.14.0 in /usr/local/lib/python3.6/dist-packages (from seaborn) (1.3.0)\n",
            "Requirement already satisfied: scikit-learn in /usr/local/lib/python3.6/dist-packages (from sklearn) (0.21.2)\n",
            "Requirement already satisfied: h5py in /usr/local/lib/python3.6/dist-packages (from keras) (2.8.0)\n",
            "Requirement already satisfied: six>=1.9.0 in /usr/local/lib/python3.6/dist-packages (from keras) (1.12.0)\n",
            "Requirement already satisfied: keras-applications>=1.0.6 in /usr/local/lib/python3.6/dist-packages (from keras) (1.0.7)\n",
            "Requirement already satisfied: pyyaml in /usr/local/lib/python3.6/dist-packages (from keras) (3.13)\n",
            "Requirement already satisfied: keras-preprocessing>=1.0.5 in /usr/local/lib/python3.6/dist-packages (from keras) (1.0.9)\n",
            "Requirement already satisfied: setuptools in /usr/local/lib/python3.6/dist-packages (from kiwisolver>=1.0.1->matplotlib) (41.0.1)\n",
            "Requirement already satisfied: joblib>=0.11 in /usr/local/lib/python3.6/dist-packages (from scikit-learn->sklearn) (0.13.2)\n",
            "Done installing dependencies.\n"
          ],
          "name": "stdout"
        }
      ]
    },
    {
      "cell_type": "markdown",
      "metadata": {
        "id": "o38bXPSw2MbC",
        "colab_type": "text"
      },
      "source": [
        "# First part: Data understanding\n",
        "\n",
        "(Estimated time: 40 minutes)\n",
        "\n",
        "First, you need to load our dataset. For this task we will be using the lineitem table from a TPC-H database of SF 0.01. From this dataset we will focus on learning a model for range queries on the extended price attribute.\n",
        "\n",
        "Here is the overall schema for the TPC-H database:\n",
        "![](https://docs.snowflake.net/manuals/_images/sample-data-tpch-schema.png)\n",
        "\n",
        "Our data will be loaded from a Github repository. Run the code below to load it into a dataframe. "
      ]
    },
    {
      "cell_type": "code",
      "metadata": {
        "id": "uJLT7RxNJirE",
        "colab_type": "code",
        "outputId": "878d806d-7d57-4364-ba41-a28eae197224",
        "colab": {
          "base_uri": "https://localhost:8080/",
          "height": 144
        }
      },
      "source": [
        "import random\n",
        "import pandas as pd\n",
        "\n",
        "dataset_url = 'https://raw.githubusercontent.com/gabrielcc2/atdbSS2019/master/data/lineitem_SF0.01.tbl'\n",
        "df = pd.read_csv(dataset_url, sep='|', header=0)\n",
        "\n",
        "# Our dataset is now stored in a Pandas Dataframe\n",
        "\n",
        "#Here we check the schema, and its length\n",
        "print(\"Schema: \"+str(df.columns))\n",
        "print(\"Number of rows: \"+str(len(df)))\n",
        "\n"
      ],
      "execution_count": 0,
      "outputs": [
        {
          "output_type": "stream",
          "text": [
            "Schema: Index(['L_ORDERKEY', 'L_PARTKEY', 'L_SUPPKEY', 'L_LINENUMBER', 'L_QUANTITY',\n",
            "       'L_EXTENDEDPRICE', 'L_DISCOUNT', 'L_TAX', 'L_RETURNFLAG',\n",
            "       'L_LINESTATUS', 'L_SHIPDATE', 'L_COMMITDATE', 'L_RECEIPTDATE',\n",
            "       'L_SHIPINSTRUCT', 'L_SHIPMODE', 'L_COMMENT',\n",
            "       'L_EXTENDEDPRICE_SORT_KEY'],\n",
            "      dtype='object')\n",
            "Number of rows: 60175\n"
          ],
          "name": "stdout"
        }
      ]
    },
    {
      "cell_type": "markdown",
      "metadata": {
        "id": "AYdBKtEy7y8G",
        "colab_type": "text"
      },
      "source": [
        "You will see that you have the same schema as defined in the TPC-H standard, but there is an addition of a column called  *L_EXTENDEDPRICE_SORT_KEY* .\n",
        "\n",
        "This column will come in handy for our task.\n",
        "\n",
        "Remember that our idea is to train a regressor model that maps from the *L_EXTENDEDPRICE*, to a location where items with that given price can be found. For simplicity, let's assume that this location can be the index of an array.\n",
        "\n",
        "If this location were the actual index of the row, it would be very difficult to learn a precise model.\n",
        "\n",
        "Run the code below to get a better sense of this difficulty. Here we plot how the prices (*L_EXTENDEDPRICE*) are distributed, and how they relate to the original index (*ORIGINAL_INDEX*). \n"
      ]
    },
    {
      "cell_type": "code",
      "metadata": {
        "id": "Ca0QPX7A9WQP",
        "colab_type": "code",
        "outputId": "df3d4c9c-07a0-4f4b-ccc4-7c9e41605c92",
        "colab": {
          "base_uri": "https://localhost:8080/",
          "height": 407
        }
      },
      "source": [
        "import matplotlib.pyplot as plt\n",
        "import seaborn as sns; sns.set()\n",
        "  \n",
        "\n",
        "df['ORIGINAL_INDEX'] = df.index #For ease of use, we insert a new column with the original positions\n",
        "\n",
        "df_for_plot= df[['L_EXTENDEDPRICE', 'ORIGINAL_INDEX']] #We only keep the columns that we'll use for the plot\n",
        "\n",
        "\"\"\"\n",
        "For zooming-in, feel free to consider only the first k indexes or prices in df2...\n",
        "\n",
        "With the next 2 commands you sort on 'L_EXTENDEDPRICE' values, and retrieve only the first k rows\n",
        "\n",
        "df_for_plot= df_for_plot.sort_values(['L_EXTENDEDPRICE']) #(or alternatively, df_for_plot.sort_values(['ORIGINAL_INDEX']))\n",
        "df_for_plot=df_for_plot[:k]\n",
        "\"\"\"\n",
        "sns.set_palette(\"Paired\")\n",
        "g=sns.pairplot(df_for_plot)\n",
        "g.fig.suptitle(\"Extended Price vs. Original Index\", y=1.08)\n",
        "plt.show()"
      ],
      "execution_count": 0,
      "outputs": [
        {
          "output_type": "display_data",
          "data": {
            "image/png": "[encoded data removed]",
            "text/plain": [
              "<Figure size 360x360 with 6 Axes>"
            ]
          },
          "metadata": {
            "tags": []
          }
        }
      ]
    },
    {
      "cell_type": "markdown",
      "metadata": {
        "id": "UpQNaSdf93yM",
        "colab_type": "text"
      },
      "source": [
        "You should see that the *L_EXTENDEDPRICE* goes up to 100k, with apparently few items being on the high end. You'll also see that the original index goes to 50k, with a fair distribution of items in each bin of the histogram.\n",
        "\n",
        "You should also see that there is visible relation (as expected) between *L_EXTENDEDPRICE*  and the *ORIGINAL_INDEX*. This is even more evident in cases where there are duplicate prices (i.e., one price maps to several indexes).\n",
        "\n",
        "Learning a model that maps between prices and these indexes would thus be very challenging. \n",
        "\n",
        "A workaround is to use a *Cummulative Density Function* (CDF) over the spread of the prices. This function gives us a nice 1:1 mapping between price and the CDF, while at the same time being monotonically increasing, and arguably easy to learn with a regressor.\n",
        "\n",
        "In the next code snippet we construct the CDF for this attribute."
      ]
    },
    {
      "cell_type": "code",
      "metadata": {
        "id": "_50E6wVZH96s",
        "colab_type": "code",
        "outputId": "eb0509d7-ec6a-4999-aebd-772dfc2aa65b",
        "colab": {
          "base_uri": "https://localhost:8080/",
          "height": 318
        }
      },
      "source": [
        "import numpy as np\n",
        "\n",
        "#To calculate the actual CDF we need to define the unique values for the 'L_EXTENDEDPRICE'\n",
        "unique_values= sorted(df['L_EXTENDEDPRICE'].unique())\n",
        "\n",
        "#We create a histogram, counting the number of items per bin, and the boundaries of the bins\n",
        "counts, bin_edges = np.histogram (df['L_EXTENDEDPRICE'], bins=unique_values)\n",
        "prefix_sum = np.cumsum (counts) #This is a cummulative or prefix sum (https://en.wikipedia.org/wiki/Prefix_sum), tracking the sum of the number of items preceeding the list\n",
        "cdf= prefix_sum/prefix_sum[-1]#Dividing by the last value in the list gives us the cdf\n",
        "\n",
        "\n",
        "#Here we use as x the top boundaries of the bins, and as y the cdf \n",
        "df_for_plot = pd.DataFrame(np.array([bin_edges[1:], cdf]).T,\n",
        "                    columns=[\"L_EXTENDEDPRICE\", \"Cummulative Probability\"])\n",
        "sns.set_palette(\"BuGn_r\")\n",
        "g= sns.lineplot(x=\"L_EXTENDEDPRICE\", y=\"Cummulative Probability\", data=df_for_plot)\n",
        "g.set_title(\"CDF for Extended Price\", y=1.08)\n",
        "plt.show()\n",
        "\n"
      ],
      "execution_count": 0,
      "outputs": [
        {
          "output_type": "display_data",
          "data": {
            "image/png": "[encoded data removed]",
            "text/plain": [
              "<Figure size 432x288 with 1 Axes>"
            ]
          },
          "metadata": {
            "tags": []
          }
        }
      ]
    },
    {
      "cell_type": "markdown",
      "metadata": {
        "id": "NrifE_FDObK7",
        "colab_type": "text"
      },
      "source": [
        "Using the CDF we added the *'L_EXTENDEDPRICE_SORT_KEY* attribute to our dataset. It simply represents the relative position of each value found.\n",
        "\n",
        "To understand how this attribute lends itself to a mapping that is easier to learn, let's check how it relates to *L_EXTENDEDPRICE*.\n",
        "\n",
        "Fill-in the following code block and run it, to check this relation. Once the plot is shown, zoom-in to the first 500 values (sorting on *L_EXTENDEDPRICE*) and save it (with any easy to understand filename) as **submission item # 1**. Optionally, you can compare too, in the same plot with the original indexes. \n",
        "\n"
      ]
    },
    {
      "cell_type": "code",
      "metadata": {
        "id": "6T4nG6FdYKoD",
        "colab_type": "code",
        "colab": {}
      },
      "source": [
        "df_for_plot= df[[]] #TODO: Fill-in the columns needed for the plot\n",
        "\n",
        "#TODO: Add here the code to zoom-in to the first 500 values (sorting on 'L_EXTENDEDPRICE')\n",
        "sns.set_palette(\"husl\")\n",
        "g= sns.pairplot(df_for_plot)\n",
        "g.fig.suptitle(\"... vs. ...\", y=1.08) #TODO: Fill-in\n",
        "plt.show()"
      ],
      "execution_count": 0,
      "outputs": []
    },
    {
      "cell_type": "markdown",
      "metadata": {
        "id": "gpXAOYDL2dZR",
        "colab_type": "text"
      },
      "source": [
        "# Second part:  Model fitting\n",
        "\n",
        "(Estimated time: 80 minutes)"
      ]
    },
    {
      "cell_type": "markdown",
      "metadata": {
        "id": "4WO1No4OpY_0",
        "colab_type": "text"
      },
      "source": [
        "*Regression* is the problem of predicting a target value (commonly a real-value), given an unlabled example. In order to solve this task a regression model is trained on a set of labeled data (e.g. to learn how to predict the weight of a person, based on features), such that the model can then be used to predict the target value of new unlabeled examples.\n",
        "\n",
        "![An example of linear regression](https://scikit-learn.org/stable/_images/sphx_glr_plot_cv_predict_thumb.png)\n",
        "\n",
        "For our case, however, we are not entirely concerned on learning for new data, instead the goal is to minimize the errors of the learned model on the training data itself. As a result, there is no test and train split.\n",
        "\n",
        "In this section of the assignment we will create several models, and compare them. In specific, we will compare:\n",
        "\n",
        "1. A simple linear regressor, against many others (only on the first 2k data points).\n",
        "2. A SVM regressor of your choice, from the Scikit learn models (only on the first 2k data points).\n",
        "3. A naive neural network.\n",
        "4. A hierarhical neural network architecture.\n",
        "\n",
        "In the following snippet we begin by defining in an easy manner our X and Y variables, and the subsets that we will use.\n",
        "\n"
      ]
    },
    {
      "cell_type": "code",
      "metadata": {
        "id": "8DfbQHs34ET9",
        "colab_type": "code",
        "outputId": "07fb24f1-00e1-43d8-88eb-e66800f339cd",
        "colab": {
          "base_uri": "https://localhost:8080/",
          "height": 35
        }
      },
      "source": [
        "import copy\n",
        "from sklearn import preprocessing\n",
        "\n",
        "df=df.sort_values(['L_EXTENDEDPRICE'])\n",
        "df['L_EXTENDEDPRICE_SCALED']=preprocessing.scale(df['L_EXTENDEDPRICE'])\n",
        "\n",
        "X = np.array(df['L_EXTENDEDPRICE']).reshape(-1,1) #A necessary reshape\n",
        "X_subset=X[:2000]#We will train first on a subset of 2k values. \n",
        "\n",
        "X_subset_scaled=np.array(df['L_EXTENDEDPRICE_SCALED']).reshape(-1,1) #A necessary reshape\n",
        "X_subset_scaled=X_subset_scaled[:2000]\n",
        "\n",
        "Y=df['L_EXTENDEDPRICE_SORT_KEY']\n",
        "Y_subset=Y[:2000]#We will train first on a subset of 2k values\n",
        "\n",
        "print(\"Done initializing subsets for training the scikit-learn regressors.\")"
      ],
      "execution_count": 0,
      "outputs": [
        {
          "output_type": "stream",
          "text": [
            "Done initializing subsets for training the scikit-learn regressors.\n"
          ],
          "name": "stdout"
        }
      ]
    },
    {
      "cell_type": "markdown",
      "metadata": {
        "id": "Pn7dqT5ws4Gi",
        "colab_type": "text"
      },
      "source": [
        "Next we are going to train several models made available in scikit-learn. Please note that, since many of these models are more suitable for small to mid-sized data, we only evaluate them on a very limited subset of our dataset. Also note that we report the an evaluation on the original data (i.e., we make no train/test splits). Furthermore, we consider here mean absolute error, since it seems easier to understand (for this dataset) than the mean squared error.\n",
        "\n",
        "This step could take some time."
      ]
    },
    {
      "cell_type": "code",
      "metadata": {
        "id": "lfwY6Y-e4q8_",
        "colab_type": "code",
        "outputId": "efc6ccd5-5fae-4709-a95d-80718683c50e",
        "colab": {
          "base_uri": "https://localhost:8080/",
          "height": 301
        }
      },
      "source": [
        "from sklearn import linear_model\n",
        "from sklearn.metrics import mean_absolute_error\n",
        "from sklearn.kernel_ridge import KernelRidge\n",
        "from sklearn.gaussian_process import GaussianProcessRegressor\n",
        "from sklearn.ensemble import AdaBoostRegressor\n",
        "from sklearn.tree import DecisionTreeRegressor\n",
        "from sklearn.svm import SVR\n",
        "\n",
        "\"\"\"\n",
        "For each regressor we have a similar workflow:\n",
        "First, we define the regressor\n",
        "Second, we fit the model\n",
        "Third, we predict\n",
        "Fourth, we evaluate the error\n",
        "\"\"\"\n",
        "def max_absolute_error(y, y_pred):\n",
        "    return np.max(np.abs(y - y_pred))\n",
        "\n",
        "max_ae=[]\n",
        "\n",
        "#We begin with linear models, which have the nice feature of having a low number of\n",
        "#coefficients, hence creating models that are compact (i.e., with a low memory footprint)\n",
        "lr = linear_model.LinearRegression(n_jobs=5)#A linear regressor model. The simplest of the lot.\n",
        "lr.fit(X_subset,Y_subset)\n",
        "lr_predict= lr.predict(X_subset)\n",
        "lr_mae=mean_absolute_error(Y_subset, lr_predict)\n",
        "max_ae.append(max_absolute_error(Y_subset, lr_predict))\n",
        "\n",
        "lasso = linear_model.Lasso(alpha=1.0) #A linear lasso model (least absolute shrinkage and selection operator)\n",
        "#In addition to regression, Lasso models are also commonly employed for feature selection.\n",
        "lasso.fit(X_subset, Y_subset)\n",
        "lasso_predict=lasso.predict(X_subset)\n",
        "lasso_mae=mean_absolute_error(Y_subset, lasso_predict)\n",
        "max_ae.append(max_absolute_error(Y_subset, lasso_predict))\n",
        "\n",
        "ts= linear_model.TheilSenRegressor(random_state=0) #A Theil-Sen model, a regressor based on an estimation of the\n",
        "#geometrical median of the slopes of all possible lines connecting pairs of observations in the data\n",
        "ts.fit(X_subset, Y_subset)\n",
        "ts_predict=ts.predict(X_subset)\n",
        "ts_mae=mean_absolute_error(Y_subset, ts_predict)\n",
        "max_ae.append(max_absolute_error(Y_subset, ts_predict))\n",
        "\n",
        "\n",
        "#We also consider a kernel ridge model. For this approach it is necessary to normalize the data on the X axis.\n",
        "\"\"\"This, unfortunately does not learn a compact model, but stores a lot of data\n",
        "which is also used to make the predictions.\"\"\"\n",
        "kr = KernelRidge(alpha=0.1, kernel='poly')#A kernel ridge model, with a linear kernel by default. We use a polynomial one.\n",
        "kr.fit(X_subset_scaled, Y_subset) \n",
        "kr_predict=kr.predict(X_subset_scaled)\n",
        "kr_mae=mean_absolute_error(Y_subset, kr_predict)\n",
        "max_ae.append(max_absolute_error(Y_subset, kr_predict))\n",
        "\n",
        "#We also consider a Gaussian process model\n",
        "\"\"\"This, unfortunately has a large memory footprint.\"\"\"\n",
        "gpr = GaussianProcessRegressor(random_state=0)\n",
        "gpr.fit(X_subset, Y_subset)\n",
        "gpr_predict=gpr.predict(X_subset)\n",
        "gpr_mae=mean_absolute_error(Y_subset, gpr_predict)\n",
        "max_ae.append(max_absolute_error(Y_subset, gpr_predict))\n",
        "\n",
        "#We also consider an AdaBoost model\n",
        "ab= AdaBoostRegressor(random_state=0, n_estimators=100)\n",
        "ab.fit(X_subset, Y_subset)  \n",
        "ab_predict=ab.predict(X_subset)\n",
        "ab_mae=mean_absolute_error(Y_subset, ab_predict)\n",
        "max_ae.append(max_absolute_error(Y_subset, ab_predict))\n",
        "\n",
        "#We also consider a Decision Tree model\n",
        "dt = DecisionTreeRegressor(random_state=0)\n",
        "dt.fit(X_subset, Y_subset)\n",
        "dt_predict=dt.predict(X_subset)\n",
        "dt_mae=mean_absolute_error(Y_subset, dt_predict)\n",
        "max_ae.append(max_absolute_error(Y_subset, dt_predict))\n",
        "\n",
        "#TODO: Add here an SVR model... don't forget to also add its max absolute error value to max_ae\n",
        "\n",
        "\n",
        "mean_absolute_error_regressors=[lr_mae, lasso_mae, ts_mae, kr_mae, gpr_mae, ab_mae, dt_mae]\n",
        "labels_regressors=[\"LR\", \"Lasso\", \"TS\", \"KR\", \"GP\", \"AB\", \"DT\"]\n",
        "summary = dict()\n",
        "for i in range(0,len(labels_regressors)):\n",
        "  summary[labels_regressors[i]]=dict()\n",
        "  summary[labels_regressors[i]][\"Mean Absolute Error\"]=mean_absolute_error_regressors[i]\n",
        "  summary[labels_regressors[i]][\"Max Absolute Error\"]=max_ae[i]\n",
        "g = sns.barplot(x=labels_regressors, y=mean_absolute_error_regressors)\n",
        "g.set_title(\"Mean absolute error for different models\", y=1.08)\n",
        "plt.show()\n"
      ],
      "execution_count": 0,
      "outputs": [
        {
          "output_type": "display_data",
          "data": {
            "image/png": "[encoded data removed]",
            "text/plain": [
              "<Figure size 432x288 with 1 Axes>"
            ]
          },
          "metadata": {
            "tags": []
          }
        }
      ]
    },
    {
      "cell_type": "markdown",
      "metadata": {
        "id": "KliLNH1qJVhG",
        "colab_type": "text"
      },
      "source": [
        "For your **submission item #2** extend the former code box with one Support Vector Regressor model. Here are examples: [SVR@sklearn](https://scikit-learn.org/stable/auto_examples/svm/plot_svm_regression.html). Plot the results of this model  after the results of DT, in the former code box, and save the plot to a file, for your submission. Add to the filename, or in a note, the basic details about your configuration (e.g. SVR_deg3_gamma_auto.png). For this method, just like for Kernel Ridge regressor, it is good practice to use X_subset_scaled (otherwise it takes a lot of time to run, and the results are deteriorated).\n",
        "\n",
        "Now let's take a look at how the predictions actually match for the models that you have.\n",
        "\n",
        "First we do this on a subset of the first 10 values. For your **submission item #3**, produce and download the plot for the first 1000 values, and observe better how linear models give a reasonable approximation (though without visually seeming to improve over GP and DT). This might take some minutes to run.\n",
        "\n",
        "If the SVR was not possible to implement, still submit the results for the item #3 without this model.\n",
        "\n",
        "If not vissible, remember that DT and GP are currently equal to the target function."
      ]
    },
    {
      "cell_type": "code",
      "metadata": {
        "id": "pc4JrjFUr5YZ",
        "colab_type": "code",
        "outputId": "fbba4ce4-314b-4986-f074-da87b0cd04af",
        "colab": {
          "base_uri": "https://localhost:8080/",
          "height": 318
        }
      },
      "source": [
        "#TODO: Change to show 1000 values. If needed, also add the SVR predictions.\n",
        "\n",
        "X_plot=df['L_EXTENDEDPRICE']\n",
        "x_axis= X_plot[:10]\n",
        "sns.set_palette(\"bright\")\n",
        "g= sns.lineplot(x=x_axis, y=Y_subset[:10], label=\"Target\")\n",
        "g= sns.lineplot(ax=g, x=x_axis, y=lr_predict[:10], label=\"LR Predictions\")\n",
        "g= sns.lineplot(ax=g, x=x_axis, y=lasso_predict[:10], label=\"Lasso Predictions\")\n",
        "g= sns.lineplot(ax=g, x=x_axis, y=ts_predict[:10], label=\"TheilSen Predictions\")\n",
        "g= sns.lineplot(ax=g, x=x_axis, y=kr_predict[:10], label=\"Kernel Ridge Predictions\")\n",
        "g= sns.lineplot(ax=g, x=x_axis, y=gpr_predict[:10], label=\"Gaussian Process Predictions\")\n",
        "g= sns.lineplot(ax=g, x=x_axis, y=ab_predict[:10], label=\"AdaBoost Predictions\")\n",
        "g= sns.lineplot(ax=g, x=x_axis, y=dt_predict[:10], label=\"Decision Tree Predictions\")\n",
        "\n",
        "g.set_title(\"Extended Price Sort Key (for first 10 entries), compared to predictions\", y=1.08)\n",
        "plt.show()"
      ],
      "execution_count": 0,
      "outputs": [
        {
          "output_type": "display_data",
          "data": {
            "image/png": "[encoded data removed]",
            "text/plain": [
              "<Figure size 432x288 with 1 Axes>"
            ]
          },
          "metadata": {
            "tags": []
          }
        }
      ]
    },
    {
      "cell_type": "markdown",
      "metadata": {
        "id": "kkABnBpZ1bcS",
        "colab_type": "text"
      },
      "source": [
        "We see non-linear models perform well, but there is an overhead in their memory footprint. Let's evaluate that. To estimate the memory usage we serialize the models, using the pickle library. \n",
        "\n",
        "Optionally, add to this plot (and send) the SVR model's footprint."
      ]
    },
    {
      "cell_type": "code",
      "metadata": {
        "id": "JR78yQvr1lM-",
        "colab_type": "code",
        "outputId": "b835d3bf-13c1-4c83-cef6-6b30d8eeeef4",
        "colab": {
          "base_uri": "https://localhost:8080/",
          "height": 301
        }
      },
      "source": [
        "#TODO: If possible, add the SVR model.\n",
        "\n",
        "import pickle\n",
        "labels_regressors=[\"LR\", \"Lasso\", \"TS\", \"KR\", \"GP\", \"AB\", \"DT\"]\n",
        "model_names=[\"Orig. data\"]\n",
        "model_names.extend(labels_regressors)\n",
        "\n",
        "memory_footprint_of_models= [\n",
        "    len(pickle.dumps(Y_subset))+len(pickle.dumps(X_subset)),\n",
        "    len(pickle.dumps(lr)), \n",
        "    len(pickle.dumps(lasso)), \n",
        "    len(pickle.dumps(ts)), \n",
        "    len(pickle.dumps(kr)),\n",
        "    len(pickle.dumps(gpr)),\n",
        "    len(pickle.dumps(ab)),\n",
        "    len(pickle.dumps(dt))]\n",
        "\n",
        "for i in range(0,len(labels_regressors)):\n",
        "  summary[labels_regressors[i]][\"Memory (bytes)\"]=memory_footprint_of_models[i+1]\n",
        "  \n",
        "g = sns.barplot(x=model_names, \n",
        "    y=memory_footprint_of_models,palette=sns.xkcd_palette([\"windows blue\", \"amber\", \"greyish\", \"faded green\", \n",
        "                                  \"dusty purple\"]))\n",
        "g.set_yscale('log')\n",
        "g.set_title(\"Estimated memory footprint (in bytes) of the models\", y=1.08)\n",
        "plt.show()\n"
      ],
      "execution_count": 0,
      "outputs": [
        {
          "output_type": "display_data",
          "data": {
            "image/png": "[encoded data removed]",
            "text/plain": [
              "<Figure size 432x288 with 1 Axes>"
            ]
          },
          "metadata": {
            "tags": []
          }
        }
      ]
    },
    {
      "cell_type": "markdown",
      "metadata": {
        "id": "-Jd22p6VQQar",
        "colab_type": "text"
      },
      "source": [
        "The memory footprint plot shows that all linear models are notably smaller in their memory usage, when compared to the original data. Models from KR onwards are closer to (or larger) than the size of the original data."
      ]
    },
    {
      "cell_type": "markdown",
      "metadata": {
        "id": "icN1PR7b1l3i",
        "colab_type": "text"
      },
      "source": [
        "**Bonus:** An open question all the time, when testing a model, is: What is the impact of hyper-parameters? Or stated differently, how can we be sure that we picked the best model configuration?\n",
        "\n",
        "In the following code snippet is an example of how, in practice, grid search is done, to find the best set of hyper-parameters for a given model.\n",
        "\n",
        "Please note that the scores will not match those of the algorithm in the previous sections, since the grid search evaluates on splits of test-train. "
      ]
    },
    {
      "cell_type": "code",
      "metadata": {
        "id": "EVifvich6jBF",
        "colab_type": "code",
        "outputId": "9f8ef499-15d1-42fd-b4d4-66c7129befbd",
        "colab": {
          "base_uri": "https://localhost:8080/",
          "height": 180
        }
      },
      "source": [
        "from sklearn.model_selection import GridSearchCV\n",
        "from sklearn.metrics import make_scorer\n",
        "\n",
        "#Since this throws some warnings, let's not consider them...\n",
        "import warnings\n",
        "warnings.filterwarnings(\"ignore\")\n",
        "\n",
        "parameters = {'kernel':('linear', 'rbf', 'poly'), 'alpha':[0.1, 1.0]}#Other parameters could be included\n",
        "base_model = KernelRidge()\n",
        "grid = GridSearchCV(base_model, parameters, cv=2, scoring=make_scorer(mean_absolute_error, greater_is_better=False))\n",
        "grid.fit(X_subset_scaled, Y_subset)\n",
        "\n",
        "print(\"Best parameter set found:\")\n",
        "print(grid.best_params_)\n",
        "\n",
        "print(\"Grid scores found:\")\n",
        "means = grid.cv_results_['mean_test_score']\n",
        "stds = grid.cv_results_['std_test_score']\n",
        "for mean, std, params in zip(means, stds, grid.cv_results_['params']):\n",
        "  print(\"%0.3f (+/-%0.03f) for %r\"% (mean, std * 2, params))\n",
        "\n"
      ],
      "execution_count": 0,
      "outputs": [
        {
          "output_type": "stream",
          "text": [
            "Best parameter set found:\n",
            "{'alpha': 0.1, 'kernel': 'poly'}\n",
            "Grid scores found:\n",
            "-620.799 (+/-15.021) for {'alpha': 0.1, 'kernel': 'linear'}\n",
            "-159.897 (+/-119.187) for {'alpha': 0.1, 'kernel': 'rbf'}\n",
            "-111.027 (+/-94.427) for {'alpha': 0.1, 'kernel': 'poly'}\n",
            "-620.674 (+/-14.569) for {'alpha': 1.0, 'kernel': 'linear'}\n",
            "-447.819 (+/-42.091) for {'alpha': 1.0, 'kernel': 'rbf'}\n",
            "-248.612 (+/-28.949) for {'alpha': 1.0, 'kernel': 'poly'}\n"
          ],
          "name": "stdout"
        }
      ]
    },
    {
      "cell_type": "markdown",
      "metadata": {
        "id": "UP-H0jVgpotA",
        "colab_type": "text"
      },
      "source": [
        "Next, we'll start with a neural network model, which forms a good trade-off between memory footprint and the behavior in the regression task."
      ]
    },
    {
      "cell_type": "code",
      "metadata": {
        "id": "TxHJc-qqYFhI",
        "colab_type": "code",
        "outputId": "ce581b4e-5763-466a-99b5-d355b6c698e1",
        "colab": {
          "base_uri": "https://localhost:8080/",
          "height": 53
        }
      },
      "source": [
        "from keras.models import Sequential\n",
        "from keras.layers import Dense\n",
        "from keras import regularizers\n",
        "\n",
        "print(\"Done importing some necessary dependencies.\")"
      ],
      "execution_count": 0,
      "outputs": [
        {
          "output_type": "stream",
          "text": [
            "Using TensorFlow backend.\n"
          ],
          "name": "stderr"
        },
        {
          "output_type": "stream",
          "text": [
            "Done importing some necessary dependencies.\n"
          ],
          "name": "stdout"
        }
      ]
    },
    {
      "cell_type": "code",
      "metadata": {
        "id": "q5x-Jvz4rI9A",
        "colab_type": "code",
        "outputId": "1f50a6d4-d7c2-4e0c-fb2e-a1d76cecb537",
        "colab": {
          "base_uri": "https://localhost:8080/",
          "height": 525
        }
      },
      "source": [
        "#We attempt first a naive implementation that considers all of the data\n",
        "\n",
        "def NN_regressor():\n",
        "  model= Sequential()\n",
        "  model.add(Dense(128,input_dim=1, kernel_initializer='normal', activation='relu', kernel_regularizer=regularizers.l2(0.01)))\n",
        "  model.add(Dense(1,input_dim=128, kernel_initializer='normal', activation='linear'))\n",
        "  model.compile(loss='mean_absolute_error', optimizer='adam')\n",
        "  return model\n",
        "\n",
        "naive_model = NN_regressor()\n",
        "naive_model.fit(x=X, y=Y, epochs=10,steps_per_epoch=20,verbose=1)\n",
        "\n",
        "print(\"Done with fitting a naive model\")\n"
      ],
      "execution_count": 0,
      "outputs": [
        {
          "output_type": "stream",
          "text": [
            "WARNING:tensorflow:From /usr/local/lib/python3.6/dist-packages/tensorflow/python/framework/op_def_library.py:263: colocate_with (from tensorflow.python.framework.ops) is deprecated and will be removed in a future version.\n",
            "Instructions for updating:\n",
            "Colocations handled automatically by placer.\n",
            "WARNING:tensorflow:From /usr/local/lib/python3.6/dist-packages/tensorflow/python/ops/math_ops.py:3066: to_int32 (from tensorflow.python.ops.math_ops) is deprecated and will be removed in a future version.\n",
            "Instructions for updating:\n",
            "Use tf.cast instead.\n",
            "Epoch 1/10\n",
            "20/20 [==============================] - 2s 96ms/step - loss: 16568.0383\n",
            "Epoch 2/10\n",
            "20/20 [==============================] - 2s 91ms/step - loss: 12257.4170\n",
            "Epoch 3/10\n",
            "20/20 [==============================] - 2s 90ms/step - loss: 5986.6099\n",
            "Epoch 4/10\n",
            "20/20 [==============================] - 2s 89ms/step - loss: 1191.9803\n",
            "Epoch 5/10\n",
            "20/20 [==============================] - 2s 88ms/step - loss: 897.2357\n",
            "Epoch 6/10\n",
            "20/20 [==============================] - 2s 90ms/step - loss: 804.5000\n",
            "Epoch 7/10\n",
            "20/20 [==============================] - 2s 91ms/step - loss: 798.7788\n",
            "Epoch 8/10\n",
            "20/20 [==============================] - 2s 91ms/step - loss: 798.5313\n",
            "Epoch 9/10\n",
            "20/20 [==============================] - 2s 88ms/step - loss: 798.5087\n",
            "Epoch 10/10\n",
            "20/20 [==============================] - 2s 87ms/step - loss: 798.5054\n",
            "Done with fitting a naive model\n"
          ],
          "name": "stdout"
        }
      ]
    },
    {
      "cell_type": "markdown",
      "metadata": {
        "id": "VbnXL76EX9m2",
        "colab_type": "text"
      },
      "source": [
        "Training such models over the whole dataset will require some effort. Given the size of datasets, it would be easier to break the learning of the model into a hierarchical solution: At the top a multi-class classifier, deciding which model from underneath would answer to the query. At the bottom, a series of regressors learning on a given subset of data.\n",
        "\n",
        "This smart idea was suggested by Kraska et al., calling such ensemble a Recursive Index Model. ![alt text](https://adriancolyer.files.wordpress.com/2018/01/learned-index-fig-3.jpeg?w=520)\n",
        "\n",
        "In the next task, let's build and train one such model consisting of one parent, and 4 regressor nodes as children. \n",
        "\n",
        "To this end we need to start by creating a mapping between the L_EXTENDEDPRICE and 4 class\n",
        "labels corresponding to the children nodes.\n",
        "\n",
        "Here we will assign labels 0,1,2,3 by breaking the data points based on the quantiles.\n",
        "To learn about the parameters and configurations available for building networks with Keras, check their documentation: [Keras](https://keras.io/).\n"
      ]
    },
    {
      "cell_type": "code",
      "metadata": {
        "id": "5tQo_v6dd3v6",
        "colab_type": "code",
        "outputId": "989f5e98-8605-480c-872f-50f906d89359",
        "colab": {
          "base_uri": "https://localhost:8080/",
          "height": 35
        }
      },
      "source": [
        "price_quantiles=[\n",
        "    np.quantile(df['L_EXTENDEDPRICE'], .25),\n",
        "    np.quantile(df['L_EXTENDEDPRICE'], .50),\n",
        "    np.quantile(df['L_EXTENDEDPRICE'], .75)]\n",
        "\n",
        "df['classifier_labels']=[0 if x<=price_quantiles[0] \n",
        "                      else \n",
        "                             1 if x<=price_quantiles[1]\n",
        "                      else\n",
        "                             2 if x<=price_quantiles[2]\n",
        "                      else\n",
        "                             3 for x in df['L_EXTENDEDPRICE']]\n",
        "\n",
        "print(\"Done, with assigning labels to items based on quantiles.\")\n"
      ],
      "execution_count": 0,
      "outputs": [
        {
          "output_type": "stream",
          "text": [
            "Done, with assigning labels to items based on quantiles.\n"
          ],
          "name": "stdout"
        }
      ]
    },
    {
      "cell_type": "code",
      "metadata": {
        "id": "b3M9f98Z1OBm",
        "colab_type": "code",
        "outputId": "b39d1557-0166-4840-8c84-7afd91198f19",
        "colab": {
          "base_uri": "https://localhost:8080/",
          "height": 35
        }
      },
      "source": [
        "from sklearn.utils import shuffle\n",
        "from sklearn import preprocessing\n",
        "from keras.utils.np_utils import to_categorical\n",
        "\n",
        "df = shuffle(df) \n",
        "\n",
        "#Some house keeping, encoding the labels\n",
        "encoder = preprocessing.LabelEncoder()\n",
        "encoder.fit(df['classifier_labels'])\n",
        "encoded_Y = encoder.transform(df['classifier_labels'])\n",
        "# We convert integers to dummy variables (i.e. one hot encoded)\n",
        "dummy_y = to_categorical(encoded_Y)\n",
        "\n",
        "print(\"Done with some prep to train the recursive model index parent model (the classifier).\")"
      ],
      "execution_count": 0,
      "outputs": [
        {
          "output_type": "stream",
          "text": [
            "Done with some prep to train the recursive model index parent model (the classifier).\n"
          ],
          "name": "stdout"
        }
      ]
    },
    {
      "cell_type": "code",
      "metadata": {
        "id": "3mgYmMWbuYEj",
        "colab_type": "code",
        "outputId": "4e17a852-dafd-4375-c34a-d19925071082",
        "colab": {
          "base_uri": "https://localhost:8080/",
          "height": 578
        }
      },
      "source": [
        "#Here we define and train a multi-class classifier mapping to 4 classes\n",
        "def NN_classifier():\n",
        "  model= Sequential()\n",
        "  model.add(Dense(12,input_dim=1, kernel_initializer='uniform', activation='relu'))\n",
        "  model.add(Dense(8,input_dim=12, kernel_initializer='uniform', activation='relu'))\n",
        "  model.add(Dense(output_dim=4,input_dim=8, kernel_initializer='uniform', activation='softmax'))\n",
        "  model.compile(loss='categorical_crossentropy', optimizer='adam', metrics=['accuracy']) \n",
        "  return model\n",
        "\n",
        "#In the following we train a model that should have a classification accuracy higher than 90%\n",
        "parent_model = NN_classifier()\n",
        "parent_model.fit(x=df['L_EXTENDEDPRICE'], y=dummy_y, epochs=15,verbose=1)\n",
        "\n",
        "print(\"Done with fitting the parent model.\")"
      ],
      "execution_count": 0,
      "outputs": [
        {
          "output_type": "stream",
          "text": [
            "Epoch 1/15\n",
            "60175/60175 [==============================] - 2s 37us/step - loss: 1.0365 - acc: 0.5058\n",
            "Epoch 2/15\n",
            "60175/60175 [==============================] - 2s 33us/step - loss: 0.6935 - acc: 0.8165\n",
            "Epoch 3/15\n",
            "60175/60175 [==============================] - 2s 32us/step - loss: 0.5011 - acc: 0.9075\n",
            "Epoch 4/15\n",
            "60175/60175 [==============================] - 2s 33us/step - loss: 0.3849 - acc: 0.9419\n",
            "Epoch 5/15\n",
            "60175/60175 [==============================] - 2s 32us/step - loss: 0.2876 - acc: 0.9491\n",
            "Epoch 6/15\n",
            "60175/60175 [==============================] - 2s 33us/step - loss: 0.2210 - acc: 0.9591\n",
            "Epoch 7/15\n",
            "60175/60175 [==============================] - 2s 32us/step - loss: 0.1825 - acc: 0.9583\n",
            "Epoch 8/15\n",
            "60175/60175 [==============================] - 2s 33us/step - loss: 0.1605 - acc: 0.9569\n",
            "Epoch 9/15\n",
            "60175/60175 [==============================] - 2s 33us/step - loss: 0.1436 - acc: 0.9606\n",
            "Epoch 10/15\n",
            "60175/60175 [==============================] - 2s 33us/step - loss: 0.1302 - acc: 0.9629\n",
            "Epoch 11/15\n",
            "60175/60175 [==============================] - 2s 33us/step - loss: 0.1264 - acc: 0.9607\n",
            "Epoch 12/15\n",
            "60175/60175 [==============================] - 2s 33us/step - loss: 0.1177 - acc: 0.9621\n",
            "Epoch 13/15\n",
            "60175/60175 [==============================] - 2s 32us/step - loss: 0.1129 - acc: 0.9643\n",
            "Epoch 14/15\n",
            "60175/60175 [==============================] - 2s 32us/step - loss: 0.1075 - acc: 0.9650\n",
            "Epoch 15/15\n",
            "60175/60175 [==============================] - 2s 33us/step - loss: 0.1048 - acc: 0.9643\n",
            "Done with fitting the parent model.\n"
          ],
          "name": "stdout"
        }
      ]
    },
    {
      "cell_type": "markdown",
      "metadata": {
        "id": "nIJCPXEriPJ_",
        "colab_type": "text"
      },
      "source": [
        "Now we have built a classifier. It is time to evaluate it."
      ]
    },
    {
      "cell_type": "code",
      "metadata": {
        "id": "TUX9FJj39fR2",
        "colab_type": "code",
        "outputId": "6388007c-bab4-4af7-8e44-3a8098185976",
        "colab": {
          "base_uri": "https://localhost:8080/",
          "height": 35
        }
      },
      "source": [
        "#Here we load a model that corresponds to a pre-trained classifier (just to make sure we have a very accurate model for the next steps).\n",
        "\n",
        "from keras.models import load_model\n",
        "from urllib.request import urlopen\n",
        "remote_model_data = urlopen('https://github.com/gabrielcc2/atdbSS2019/raw/master/models/parent_model.h5').read()\n",
        "f = open('parent_model.h5', 'wb')\n",
        "f.write(remote_model_data)\n",
        "parent_model = load_model('parent_model.h5')\n",
        "\n",
        "print(\"Done with loading a pre-trained parent model\")\n"
      ],
      "execution_count": 0,
      "outputs": [
        {
          "output_type": "stream",
          "text": [
            "Done with loading a pre-trained parent model\n"
          ],
          "name": "stdout"
        }
      ]
    },
    {
      "cell_type": "code",
      "metadata": {
        "id": "_7npBMJ5y7x3",
        "colab_type": "code",
        "outputId": "e39042cb-17af-48a0-e619-7b9afdd76a70",
        "colab": {
          "base_uri": "https://localhost:8080/",
          "height": 35
        }
      },
      "source": [
        "#Let's check the accuracy of the model we just loaded (this might take some time)\n",
        "from sklearn.metrics import accuracy_score\n",
        "\n",
        "parent_model_preds=[np.argmax(parent_model.predict([x], batch_size=1)) for x in df['L_EXTENDEDPRICE']] #Here the predictions are the positions that ranked higher from the one hot encoding.\n",
        "\n",
        "print(\"Accuracy score for pre-trained classifier: \"+str(accuracy_score(df['classifier_labels'], parent_model_preds)))\n",
        "\n",
        "#Now we replace the original labels with those given by the predictor.\n"
      ],
      "execution_count": 0,
      "outputs": [
        {
          "output_type": "stream",
          "text": [
            "Accuracy score for pre-trained classifier: 0.9986206896551724\n"
          ],
          "name": "stdout"
        }
      ]
    },
    {
      "cell_type": "markdown",
      "metadata": {
        "id": "aD2-egn2iZiI",
        "colab_type": "text"
      },
      "source": [
        "After building and evaluating the parent model (i.e., the classifier), we can train the leaf nodes."
      ]
    },
    {
      "cell_type": "code",
      "metadata": {
        "id": "zdhLSVn9GgWP",
        "colab_type": "code",
        "outputId": "ce6fde22-56b0-4d6f-ff79-c75a4a7f5925",
        "colab": {
          "base_uri": "https://localhost:8080/",
          "height": 35
        }
      },
      "source": [
        "#We will use the predictions of the parent model to distribute the data to child nodes when training.\n",
        "\n",
        "df['new_classifier_labels']=parent_model_preds\n",
        "\n",
        "# The following line could work for checking that all items in X_subset are for the first regressor\n",
        "#print([np.argmax(parent_model.predict([x], batch_size=1)) for x in X_subset])\n",
        "\n",
        "print(\"We stored the predictions of the parent model, to use them as our new labels.\")"
      ],
      "execution_count": 0,
      "outputs": [
        {
          "output_type": "stream",
          "text": [
            "We stored the predictions of the parent model, to use them as our new labels.\n"
          ],
          "name": "stdout"
        }
      ]
    },
    {
      "cell_type": "code",
      "metadata": {
        "id": "Hgp1fe2lCRYh",
        "colab_type": "code",
        "outputId": "6ca48a97-fad1-4878-ecee-5f5851451d67",
        "colab": {
          "base_uri": "https://localhost:8080/",
          "height": 35
        }
      },
      "source": [
        "models=[]\n",
        "print(\"We created an empty models array, to store the leaf nodes from the recursive model index.\")"
      ],
      "execution_count": 0,
      "outputs": [
        {
          "output_type": "stream",
          "text": [
            "We created an empty models array, to store the leaf nodes from the recursive model index.\n"
          ],
          "name": "stdout"
        }
      ]
    },
    {
      "cell_type": "code",
      "metadata": {
        "id": "yh6LwGQGLX2Q",
        "colab_type": "code",
        "outputId": "485a58c1-06e6-43aa-a537-361755c967eb",
        "colab": {
          "base_uri": "https://localhost:8080/",
          "height": 2948
        }
      },
      "source": [
        "#Now we are going to train the four child regressor models\n",
        "#This will take some time. You could try changing the number of epochs, to train less.\n",
        "\n",
        "def NN_regressor():\n",
        "  model= Sequential()\n",
        "  model.add(Dense(32,input_dim=1, kernel_initializer='he_uniform', activation='relu'))\n",
        "  model.add(Dense(32,input_dim=32, kernel_initializer='he_uniform', activation='relu'))\n",
        "  model.add(Dense(128,input_dim=32, kernel_initializer='he_uniform', activation='relu'))\n",
        "  model.add(Dense(1,input_dim=128, kernel_initializer='he_uniform', activation='relu'))\n",
        "  model.compile(loss='mean_squared_error', optimizer='adamax', metrics=['mae'])\n",
        "  return model\n",
        "\n",
        "for item in range(0,4):\n",
        "  if (len(models)==item):\n",
        "    models.append(NN_regressor())\n",
        "  else:\n",
        "    models[item]=NN_regressor()\n",
        "  df_subset=df[df['new_classifier_labels']==item]\n",
        "  models[item].fit(x=df_subset['L_EXTENDEDPRICE_SCALED'], y=df_subset['L_EXTENDEDPRICE_SORT_KEY'], epochs=20, verbose=1)\n",
        "  models[item].save(\"reg_model_\"+str(item)+\".h5\")\n",
        "  \n",
        "print(\"Great! We created and trained our 4 regressors.\")\n",
        "\n"
      ],
      "execution_count": 0,
      "outputs": [
        {
          "output_type": "stream",
          "text": [
            "Epoch 1/20\n",
            "15030/15030 [==============================] - 1s 57us/step - loss: 17669883.9859 - mean_absolute_error: 3492.5132\n",
            "Epoch 2/20\n",
            "15030/15030 [==============================] - 1s 35us/step - loss: 10146529.2752 - mean_absolute_error: 2745.3092\n",
            "Epoch 3/20\n",
            "15030/15030 [==============================] - 1s 34us/step - loss: 9736832.5424 - mean_absolute_error: 2690.4224\n",
            "Epoch 4/20\n",
            "15030/15030 [==============================] - 1s 35us/step - loss: 9331259.5560 - mean_absolute_error: 2635.7865\n",
            "Epoch 5/20\n",
            "15030/15030 [==============================] - 1s 35us/step - loss: 8961560.9320 - mean_absolute_error: 2583.9585\n",
            "Epoch 6/20\n",
            "15030/15030 [==============================] - 1s 35us/step - loss: 8459561.7183 - mean_absolute_error: 2511.4204\n",
            "Epoch 7/20\n",
            "15030/15030 [==============================] - 1s 35us/step - loss: 7787110.2480 - mean_absolute_error: 2410.1636\n",
            "Epoch 8/20\n",
            "15030/15030 [==============================] - 1s 35us/step - loss: 6782491.7329 - mean_absolute_error: 2249.7621\n",
            "Epoch 9/20\n",
            "15030/15030 [==============================] - 1s 35us/step - loss: 4979920.1902 - mean_absolute_error: 1924.1755\n",
            "Epoch 10/20\n",
            "15030/15030 [==============================] - 1s 35us/step - loss: 1675960.0797 - mean_absolute_error: 1057.0796\n",
            "Epoch 11/20\n",
            "15030/15030 [==============================] - 1s 35us/step - loss: 34085.9031 - mean_absolute_error: 111.9995\n",
            "Epoch 12/20\n",
            "15030/15030 [==============================] - 1s 35us/step - loss: 894.0133 - mean_absolute_error: 18.6191\n",
            "Epoch 13/20\n",
            "15030/15030 [==============================] - 1s 35us/step - loss: 640.6590 - mean_absolute_error: 17.6024\n",
            "Epoch 14/20\n",
            "15030/15030 [==============================] - 1s 35us/step - loss: 604.1235 - mean_absolute_error: 17.3144\n",
            "Epoch 15/20\n",
            "15030/15030 [==============================] - 1s 36us/step - loss: 590.9799 - mean_absolute_error: 17.4366\n",
            "Epoch 16/20\n",
            "15030/15030 [==============================] - 1s 35us/step - loss: 592.0346 - mean_absolute_error: 17.8117\n",
            "Epoch 17/20\n",
            "15030/15030 [==============================] - 1s 35us/step - loss: 545.8234 - mean_absolute_error: 17.2348\n",
            "Epoch 18/20\n",
            "15030/15030 [==============================] - 1s 34us/step - loss: 544.8654 - mean_absolute_error: 17.5580\n",
            "Epoch 19/20\n",
            "15030/15030 [==============================] - 1s 35us/step - loss: 505.0380 - mean_absolute_error: 17.0550\n",
            "Epoch 20/20\n",
            "15030/15030 [==============================] - 1s 35us/step - loss: 483.0215 - mean_absolute_error: 16.7032\n",
            "Epoch 1/20\n",
            "15036/15036 [==============================] - 1s 59us/step - loss: 141986673.1333 - mean_absolute_error: 11118.9257\n",
            "Epoch 2/20\n",
            "15036/15036 [==============================] - 1s 35us/step - loss: 31371777.1923 - mean_absolute_error: 4798.6565\n",
            "Epoch 3/20\n",
            "15036/15036 [==============================] - 1s 35us/step - loss: 23718180.0122 - mean_absolute_error: 4196.7244\n",
            "Epoch 4/20\n",
            "15036/15036 [==============================] - 1s 35us/step - loss: 17302944.0476 - mean_absolute_error: 3588.6721\n",
            "Epoch 5/20\n",
            "15036/15036 [==============================] - 1s 35us/step - loss: 11496023.6611 - mean_absolute_error: 2928.7707\n",
            "Epoch 6/20\n",
            "15036/15036 [==============================] - 1s 35us/step - loss: 6280461.0209 - mean_absolute_error: 2152.4401\n",
            "Epoch 7/20\n",
            "15036/15036 [==============================] - 1s 35us/step - loss: 1633485.7048 - mean_absolute_error: 1050.7558\n",
            "Epoch 8/20\n",
            "15036/15036 [==============================] - 1s 35us/step - loss: 49088.3829 - mean_absolute_error: 145.9072\n",
            "Epoch 9/20\n",
            "15036/15036 [==============================] - 1s 35us/step - loss: 377.4043 - mean_absolute_error: 15.9389\n",
            "Epoch 10/20\n",
            "15036/15036 [==============================] - 1s 35us/step - loss: 294.5225 - mean_absolute_error: 14.4969\n",
            "Epoch 11/20\n",
            "15036/15036 [==============================] - 1s 35us/step - loss: 274.7170 - mean_absolute_error: 14.0578\n",
            "Epoch 12/20\n",
            "15036/15036 [==============================] - 1s 35us/step - loss: 267.2937 - mean_absolute_error: 13.8093\n",
            "Epoch 13/20\n",
            "15036/15036 [==============================] - 1s 36us/step - loss: 270.4936 - mean_absolute_error: 13.7963\n",
            "Epoch 14/20\n",
            "15036/15036 [==============================] - 1s 35us/step - loss: 271.7323 - mean_absolute_error: 13.7543\n",
            "Epoch 15/20\n",
            "15036/15036 [==============================] - 1s 35us/step - loss: 277.5823 - mean_absolute_error: 13.7734\n",
            "Epoch 16/20\n",
            "15036/15036 [==============================] - 1s 35us/step - loss: 265.4194 - mean_absolute_error: 13.4646\n",
            "Epoch 17/20\n",
            "15036/15036 [==============================] - 1s 35us/step - loss: 243.4015 - mean_absolute_error: 12.7923\n",
            "Epoch 18/20\n",
            "15036/15036 [==============================] - 1s 35us/step - loss: 232.4817 - mean_absolute_error: 12.4234\n",
            "Epoch 19/20\n",
            "15036/15036 [==============================] - 1s 35us/step - loss: 209.0522 - mean_absolute_error: 11.7597\n",
            "Epoch 20/20\n",
            "15036/15036 [==============================] - 1s 35us/step - loss: 189.2248 - mean_absolute_error: 11.1361\n",
            "Epoch 1/20\n",
            "15112/15112 [==============================] - 1s 63us/step - loss: 349369939.1530 - mean_absolute_error: 17416.9816\n",
            "Epoch 2/20\n",
            "15112/15112 [==============================] - 1s 35us/step - loss: 2811881.0896 - mean_absolute_error: 1383.3901\n",
            "Epoch 3/20\n",
            "15112/15112 [==============================] - 1s 36us/step - loss: 266317.0370 - mean_absolute_error: 374.8981\n",
            "Epoch 4/20\n",
            "15112/15112 [==============================] - 1s 36us/step - loss: 9816.0383 - mean_absolute_error: 56.8595\n",
            "Epoch 5/20\n",
            "15112/15112 [==============================] - 1s 36us/step - loss: 2462.2241 - mean_absolute_error: 32.1826\n",
            "Epoch 6/20\n",
            "15112/15112 [==============================] - 1s 35us/step - loss: 1482.6270 - mean_absolute_error: 26.4895\n",
            "Epoch 7/20\n",
            "15112/15112 [==============================] - 1s 36us/step - loss: 986.5612 - mean_absolute_error: 22.6821\n",
            "Epoch 8/20\n",
            "15112/15112 [==============================] - 1s 35us/step - loss: 673.0686 - mean_absolute_error: 19.7180\n",
            "Epoch 9/20\n",
            "15112/15112 [==============================] - 1s 35us/step - loss: 469.9670 - mean_absolute_error: 17.3423\n",
            "Epoch 10/20\n",
            "15112/15112 [==============================] - 1s 36us/step - loss: 345.9123 - mean_absolute_error: 15.4647\n",
            "Epoch 11/20\n",
            "15112/15112 [==============================] - 1s 36us/step - loss: 280.4524 - mean_absolute_error: 14.1346\n",
            "Epoch 12/20\n",
            "15112/15112 [==============================] - 1s 35us/step - loss: 251.0996 - mean_absolute_error: 13.3359\n",
            "Epoch 13/20\n",
            "15112/15112 [==============================] - 1s 35us/step - loss: 250.1246 - mean_absolute_error: 13.1872\n",
            "Epoch 14/20\n",
            "15112/15112 [==============================] - 1s 35us/step - loss: 239.1954 - mean_absolute_error: 12.8569\n",
            "Epoch 15/20\n",
            "15112/15112 [==============================] - 1s 35us/step - loss: 242.6718 - mean_absolute_error: 12.8649\n",
            "Epoch 16/20\n",
            "15112/15112 [==============================] - 1s 36us/step - loss: 239.7655 - mean_absolute_error: 12.7490\n",
            "Epoch 17/20\n",
            "15112/15112 [==============================] - 1s 35us/step - loss: 218.9188 - mean_absolute_error: 12.2621\n",
            "Epoch 18/20\n",
            "15112/15112 [==============================] - 1s 36us/step - loss: 228.6622 - mean_absolute_error: 12.4983\n",
            "Epoch 19/20\n",
            "15112/15112 [==============================] - 1s 35us/step - loss: 222.3557 - mean_absolute_error: 12.2565\n",
            "Epoch 20/20\n",
            "15112/15112 [==============================] - 1s 36us/step - loss: 216.7975 - mean_absolute_error: 12.1141\n",
            "Epoch 1/20\n",
            "14997/14997 [==============================] - 1s 68us/step - loss: 994091858.8795 - mean_absolute_error: 31423.8000\n",
            "Epoch 2/20\n",
            "14997/14997 [==============================] - 1s 36us/step - loss: 994091858.0601 - mean_absolute_error: 31423.8000\n",
            "Epoch 3/20\n",
            "14997/14997 [==============================] - 1s 36us/step - loss: 994091859.8397 - mean_absolute_error: 31423.8000\n",
            "Epoch 4/20\n",
            "14997/14997 [==============================] - 1s 35us/step - loss: 994091857.8212 - mean_absolute_error: 31423.8000\n",
            "Epoch 5/20\n",
            "14997/14997 [==============================] - 1s 36us/step - loss: 994091861.5168 - mean_absolute_error: 31423.8000\n",
            "Epoch 6/20\n",
            "14997/14997 [==============================] - 1s 36us/step - loss: 994091859.2764 - mean_absolute_error: 31423.8000\n",
            "Epoch 7/20\n",
            "14997/14997 [==============================] - 1s 38us/step - loss: 994091857.8468 - mean_absolute_error: 31423.8000\n",
            "Epoch 8/20\n",
            "14997/14997 [==============================] - 1s 36us/step - loss: 994091859.9037 - mean_absolute_error: 31423.8000\n",
            "Epoch 9/20\n",
            "14997/14997 [==============================] - 1s 36us/step - loss: 994091858.3503 - mean_absolute_error: 31423.8000\n",
            "Epoch 10/20\n",
            "14997/14997 [==============================] - 1s 36us/step - loss: 994091860.5652 - mean_absolute_error: 31423.8000\n",
            "Epoch 11/20\n",
            "14997/14997 [==============================] - 1s 36us/step - loss: 994091859.6007 - mean_absolute_error: 31423.8000\n",
            "Epoch 12/20\n",
            "14997/14997 [==============================] - 1s 36us/step - loss: 994091860.5353 - mean_absolute_error: 31423.8000\n",
            "Epoch 13/20\n",
            "14997/14997 [==============================] - 1s 36us/step - loss: 994091859.7501 - mean_absolute_error: 31423.8000\n",
            "Epoch 14/20\n",
            "14997/14997 [==============================] - 1s 36us/step - loss: 994091858.3589 - mean_absolute_error: 31423.8000\n",
            "Epoch 15/20\n",
            "14997/14997 [==============================] - 1s 36us/step - loss: 994091860.1811 - mean_absolute_error: 31423.8000\n",
            "Epoch 16/20\n",
            "14997/14997 [==============================] - 1s 36us/step - loss: 994091856.6817 - mean_absolute_error: 31423.8000\n",
            "Epoch 17/20\n",
            "14997/14997 [==============================] - 1s 36us/step - loss: 994091861.1242 - mean_absolute_error: 31423.8000\n",
            "Epoch 18/20\n",
            "14997/14997 [==============================] - 1s 36us/step - loss: 994091858.5338 - mean_absolute_error: 31423.8000\n",
            "Epoch 19/20\n",
            "14997/14997 [==============================] - 1s 37us/step - loss: 994091858.2436 - mean_absolute_error: 31423.8000\n",
            "Epoch 20/20\n",
            "14997/14997 [==============================] - 1s 36us/step - loss: 994091860.1555 - mean_absolute_error: 31423.8000\n",
            "Great! We created and trained our 4 regressors.\n"
          ],
          "name": "stdout"
        }
      ]
    },
    {
      "cell_type": "markdown",
      "metadata": {
        "id": "RFqlh1R8qYTz",
        "colab_type": "text"
      },
      "source": [
        "That was quite a good job! Now we have one recursive model index.\n",
        "\n",
        "Please note that the architectures of the parent and leave nodes are not guaranteed to be the best possible ones given our data and the learning task; however they are sufficient to have an end-to-end index.\n",
        "\n",
        "For those interested in automating network search, here are some references of ongoing projects: [AutoKeras](https://github.com/keras-team/autokeras), [Neural Architecture Search with Reinforcement Learning](https://ai.google/research/pubs/pub45826) and [NAS Bench](https://github.com/google-research/nasbench).\n",
        "\n",
        "Let's consider next the overall mean absolute error, and the maximum error of our RMI model. To this end, in the next code box, we'll load some pre-trained models for the regressors. You can alternatively skip to the following code box and test your local models."
      ]
    },
    {
      "cell_type": "code",
      "metadata": {
        "id": "Cifs0NcbHpBe",
        "colab_type": "code",
        "outputId": "26eba9d7-51a5-4df8-816d-e3a6b5affbcb",
        "colab": {
          "base_uri": "https://localhost:8080/",
          "height": 107
        }
      },
      "source": [
        "models=[]\n",
        "for item in range(0,4):\n",
        "  remote_model_data = urlopen('https://github.com/gabrielcc2/atdbSS2019/raw/master/models/'+\"reg_model_\"+str(item)+\".h5\").read()\n",
        "  f = open(\"reg_model_\"+str(item)+\".h5\", 'wb')\n",
        "  f.write(remote_model_data)\n",
        "  models.append(load_model(\"reg_model_\"+str(item)+\".h5\"))\n",
        "  print(\"Fetched model #\"+str(item))\n",
        "print(\"Done fetching remote pre-trained models\")"
      ],
      "execution_count": 0,
      "outputs": [
        {
          "output_type": "stream",
          "text": [
            "Fetch model #0\n",
            "Fetch model #1\n",
            "Fetch model #2\n",
            "Fetch model #3\n",
            "Done fetching remote pre-trained models\n"
          ],
          "name": "stdout"
        }
      ]
    },
    {
      "cell_type": "markdown",
      "metadata": {
        "id": "H2Xx3K_QcaYl",
        "colab_type": "text"
      },
      "source": [
        "This might take some time to run."
      ]
    },
    {
      "cell_type": "code",
      "metadata": {
        "id": "JTpESy5HZT1c",
        "colab_type": "code",
        "outputId": "ac1ceac8-2555-4f80-adbb-b7f8f74c88e2",
        "colab": {
          "base_uri": "https://localhost:8080/",
          "height": 162
        }
      },
      "source": [
        "def max_absolute_error(y, y_pred):\n",
        "    return np.max(np.abs(y - y_pred))\n",
        "\n",
        "mean_absolute_errors=[]\n",
        "max_absolute_errors=[]\n",
        "max_error=0\n",
        "for item in range(0,4):\n",
        "  df_subset=df[df['new_classifier_labels']==item]\n",
        "  x_=df_subset['L_EXTENDEDPRICE_SCALED']\n",
        "  y_=df_subset['L_EXTENDEDPRICE_SORT_KEY']\n",
        "  preds=[models[item].predict([x], batch_size=1)[0] for x in x_]\n",
        "  mean_absolute_errors.append(mean_absolute_error(y_, preds))\n",
        "  preds=np.array(preds)\n",
        "  preds=preds.reshape(np.shape(preds)[0])\n",
        "  error= max_absolute_error(y_, preds)\n",
        "  max_absolute_errors.append(error)\n",
        "  if error>max_error:\n",
        "    max_error=error\n",
        "\n",
        "print(\"(Drumrolls please...)\")\n",
        "print(\"****Results for the Recursive Model Index (on the complete data)****\")\n",
        "print(\"Mean absolute error per model: \")\n",
        "print(mean_absolute_errors)\n",
        "print(\"Mean absolute error: \"+str(np.mean(mean_absolute_errors)))\n",
        "print(\"Max absolute error per model: \")\n",
        "print(max_absolute_errors)\n",
        "print(\"Max error: \"+str(max_error))"
      ],
      "execution_count": 0,
      "outputs": [
        {
          "output_type": "stream",
          "text": [
            "(Drumrolls please...)\n",
            "****Results for the Recursive Model Index (on the complete data)****\n",
            "Mean absolute error per model: \n",
            "[13.83043885716421, 8.029194516493748, 6.442378805957186, 11.7813375175035]\n",
            "Mean absolute error: 10.02083742427966\n",
            "Max absolute error per model: \n",
            "[67.30945, 26.09375, 31.330078, 41.216797]\n",
            "Max error: 67.30945\n"
          ],
          "name": "stdout"
        }
      ]
    },
    {
      "cell_type": "code",
      "metadata": {
        "id": "D0xDOFD7h5mM",
        "colab_type": "code",
        "outputId": "ba4c3cda-8b64-4f63-a643-985f61adfe94",
        "colab": {
          "base_uri": "https://localhost:8080/",
          "height": 337
        }
      },
      "source": [
        "#Here we calculate the errors on X_subset, such that we can compare it with the regressors we trained at the start\n",
        "max_error=0\n",
        "preds=[models[0].predict([x], batch_size=1)[0] for x in X_subset_scaled]\n",
        "rmi_mae = mean_absolute_error(Y_subset, preds)\n",
        "for i in range(0,len(Y_subset)):\n",
        "  if Y_subset.iloc[i]>preds[i]:\n",
        "    error= Y_subset.iloc[i]-preds[i]\n",
        "  else:\n",
        "    error= preds[i]-Y_subset.iloc[i]\n",
        "  if error>max_error:\n",
        "    max_error=error[0]\n",
        "\n",
        "summary[\"RMI\"]=dict()\n",
        "summary[\"RMI\"][\"Mean Absolute Error\"]=rmi_mae\n",
        "summary[\"RMI\"][\"Max Absolute Error\"]=max_error\n",
        "\n",
        "print(\"Mean absolute error for RMI: \"+str(rmi_mae))\n",
        "print(\"Max error for RMI: \"+str(max_error))\n",
        "\n",
        "\n",
        "sns.set_palette(\"Set2\")\n",
        "names=list(summary.keys())\n",
        "g = sns.barplot(x=names, y=[summary[key][\"Mean Absolute Error\"] for key in names])\n",
        "g.set_title(\"Mean absolute error for different models\", y=1.08)\n",
        "plt.show()\n",
        "\n"
      ],
      "execution_count": 0,
      "outputs": [
        {
          "output_type": "stream",
          "text": [
            "Mean absolute error for RMI: 20.960401087760925\n",
            "Max error for RMI: 67.30945\n"
          ],
          "name": "stdout"
        },
        {
          "output_type": "display_data",
          "data": {
            "image/png": "[encoded data removed]",
            "text/plain": [
              "<Figure size 432x288 with 1 Axes>"
            ]
          },
          "metadata": {
            "tags": []
          }
        }
      ]
    },
    {
      "cell_type": "markdown",
      "metadata": {
        "id": "4WX_j0EFPQxJ",
        "colab_type": "text"
      },
      "source": [
        "RMI should not be doing that bad in this subset."
      ]
    },
    {
      "cell_type": "markdown",
      "metadata": {
        "id": "otOrCXivRyY1",
        "colab_type": "text"
      },
      "source": [
        "Pack the previous plot and the following plot, these are your **submission items #4 and #5**. With this you conclude the assignment, but you are welcome to check the extra task, to learn more."
      ]
    },
    {
      "cell_type": "code",
      "metadata": {
        "id": "fa6vXUlcmUDn",
        "colab_type": "code",
        "outputId": "491cd504-2990-44b3-87cb-9b8eec114fac",
        "colab": {
          "base_uri": "https://localhost:8080/",
          "height": 302
        }
      },
      "source": [
        "\n",
        "model_names=[\"Orig. data\", \"LR\", \"Lasso\", \"TS\", \"KR\", \"GP\", \"AB\", \"DT\"]\n",
        "memory_footprint_of_models= [\n",
        "    len(pickle.dumps(Y_subset))+len(pickle.dumps(X_subset)),\n",
        "    len(pickle.dumps(lr)), \n",
        "    len(pickle.dumps(lasso)), \n",
        "    len(pickle.dumps(ts)), \n",
        "    len(pickle.dumps(kr)),\n",
        "    len(pickle.dumps(gpr)),\n",
        "    len(pickle.dumps(ab)),\n",
        "    len(pickle.dumps(dt))]\n",
        "\n",
        "model_names.append(\"RMI\")\n",
        "memory_footprint_of_models.append(len(pickle.dumps(models[0]))+len(pickle.dumps(parent_model)))\n",
        "\n",
        "model_names.append(\"RMI_w\")\n",
        "memory_footprint_of_models.append(len(pickle.dumps(models[0].get_weights()))+len(pickle.dumps(parent_model.get_weights())))\n",
        "summary[\"RMI\"][\"Memory (bytes)\"]=len(pickle.dumps(models[0].get_weights()))+len(pickle.dumps(parent_model.get_weights()))\n",
        "\n",
        "g = sns.barplot(x=model_names, \n",
        "    y=memory_footprint_of_models,palette=sns.xkcd_palette([\"windows blue\", \"amber\", \"greyish\", \"faded green\", \n",
        "                                  \"dusty purple\"]))\n",
        "g.set_yscale('log')\n",
        "g.set_title(\"Estimated memory footprint (in bytes) of the models\", y=1.08)\n",
        "plt.show()"
      ],
      "execution_count": 0,
      "outputs": [
        {
          "output_type": "display_data",
          "data": {
            "image/png": "[encoded data removed]",
            "text/plain": [
              "<Figure size 432x288 with 1 Axes>"
            ]
          },
          "metadata": {
            "tags": []
          }
        }
      ]
    },
    {
      "cell_type": "markdown",
      "metadata": {
        "id": "QGrNcAzJoD8O",
        "colab_type": "text"
      },
      "source": [
        "As a result, we see that the recursive model index we built, using neural networks represents a good solution for having a low mean absolute error, low maximum absolute error, and a limited memory footprint, when compared to other models. \n",
        "\n",
        "In our implementation, depending on our choice of neural architecture, it might be that Decision Trees seem to be better solutions in the trade-off between memory efficiency and mean average error.\n",
        "\n",
        "Smaller network structures could also be employed, reducing the footprint of the RMIs. This approach is also comparatively promising when considering only the weights that need to be kept (as RMI_w in the plot).\n",
        "\n",
        "**This section concludes the programming assignment. **\n",
        "\n",
        "In an extra section you can (optionally) evaluate the structure that we built, considering how it performs in the search task."
      ]
    },
    {
      "cell_type": "code",
      "metadata": {
        "id": "BWfbd8S7MMn-",
        "colab_type": "code",
        "outputId": "6a4baefc-4876-4284-ab60-3d2dc88fbbea",
        "colab": {
          "base_uri": "https://localhost:8080/",
          "height": 180
        }
      },
      "source": [
        "\"\"\"To wrap things up, let's make a summary, to get a better sense of the trade-offs.\n",
        "\"\"\"\n",
        "print(pd.DataFrame.from_dict(summary).transpose())"
      ],
      "execution_count": 0,
      "outputs": [
        {
          "output_type": "stream",
          "text": [
            "             MAE       MaxAE  Memory (bytes)\n",
            "LR     41.996683   99.814321           515.0\n",
            "Lasso  41.996747   99.814597           628.0\n",
            "TS     45.955019  136.747279           579.0\n",
            "KR     34.915409   90.630653         32421.0\n",
            "GP      0.000002    0.001386      32051794.0\n",
            "AB     33.066905   77.248201         12960.0\n",
            "DT      0.000000    0.000000        153451.0\n",
            "RMI    20.960401   67.309448         23329.0\n"
          ],
          "name": "stdout"
        }
      ]
    },
    {
      "cell_type": "markdown",
      "metadata": {
        "id": "htGx2u2T4gdR",
        "colab_type": "text"
      },
      "source": [
        "# Takeaways\n",
        "\n",
        "Kudos! You made it to the end of this programming assignment :)\n",
        "\n",
        "For students of the \"Advanced Topics in Databases\" course, please pack in a zip file **submission items #1-#5**, and send them to: campero@ovgu.de. This constitutes your submission, to be evaluated. The deadline is 30.06.19, 11:59 pm CET. Please add some feedback to the submission email, answering at least to the following questions: \n",
        "1.   On a scale from 1-5 (great to terrible), did you find this assignment to be relevant in developing skills useful for your professional path? \n",
        "2.  How would you rate the difficulty of the assignment, on a 1-5 scale (from very easy to very difficult)?\n",
        "3. What suggestions for improvement would you like us to consider?\n",
        "\n",
        "By the end of this assignment you should:\n",
        "\n",
        "1. Understand some of the key ideas for using *learned models* to solve everyday computing tasks: the role of the cummulative distribution function and how recursive model indexes can be built.\n",
        "2.  Be more familiarized with colab, pandas, seaborn, sklearn and keras, as a set of tools for building models and data exploration.\n",
        "3. Be encouraged to think on machine learning models with a practical perspective, considering their memory footprint and details that affect their execution time.\n",
        "\n",
        "![](https://drive.google.com/uc?export=view&id=1AjWDi6cnpxY21WExPRa7ltXmzts7RvHs)\n",
        "\n",
        "If you successfully completed this task, you found it to be enjoyable & would like to collaborate in researching applications of AI techniques in data management, please contact: campero@ovgu.de.\n",
        "\n",
        "If you would like to know more about the challenges for building automatically this kind of index structures, in a real-world scenario, and managing ML models in production, here is a good reference on the monitoring and testing tasks that are required: Breck, Eric, Shanqing Cai, Eric Nielsen, Michael Salib, and D. Sculley. \"The ml test score: A rubric for ml production readiness and technical debt reduction.\" In 2017 IEEE International Conference on Big Data (Big Data), pp. 1123-1132. IEEE, 2017.\n",
        "Further work advancing learned index structures should be ultimately visible [here](https://scholar.google.de/scholar?cites=15186041802906124026&as_sdt=2005&sciodt=0,5&hl=en). Of special note we would like to highlight some interesting recent work: Ding, Jialin, Umar Farooq Minhas, Hantian Zhang, Yinan Li, Chi Wang, Badrish Chandramouli, Johannes Gehrke, Donald Kossmann, and David Lomet. \"ALEX: An Updatable Adaptive Learned Index.\" arXiv preprint arXiv:1905.08898 (2019)."
      ]
    },
    {
      "cell_type": "markdown",
      "metadata": {
        "id": "ftN-vMxb4Omm",
        "colab_type": "text"
      },
      "source": [
        "# Extra part (Optional): Efficient Inference\n",
        "\n",
        "(Estimated time: 40 minutes)\n",
        "\n",
        "To be added, stay tuned."
      ]
    }
  ]
}